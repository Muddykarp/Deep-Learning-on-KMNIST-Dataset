{
  "cells": [
    {
      "cell_type": "markdown",
      "id": "a2d80d65",
      "metadata": {
        "id": "a2d80d65"
      },
      "source": [
        "# **Deep Learning on KMNIST (Kuzushiji-MNIST) Dataset** <br>\n",
        "- *CM3015 Machine Learning and Neural Networks* <br>\n",
        "- *End-term Coursework Report*"
      ]
    },
    {
      "cell_type": "markdown",
      "id": "4903355f",
      "metadata": {
        "id": "4903355f"
      },
      "source": [
        "## **Abstract**\n",
        "\n",
        "Machine Learning, deep learning and neural networks are subsets of artificial intelligence (AI) technology, and are tools used to solve complex problems. They usually require huge datasets to train an algorithm which can help automate tasks and conduct analysis without much human intervention. These technologies are also seeing a huge increase in interest and popularity among the general public.\n",
        "\n",
        "**Machine Learning** primarily focuses on the use of statistics and large datasets to develop models and algorithms to enable computers to learn and improve from prior experiences during training. This process of learning helps to solve problems without being explicitly instructed.\n",
        "\n",
        "**Deep Learning** is a subset of machine learning that utilizes artificial neural networks to model and solve problems. Deep learning algorithms attempt to mimic the human brain via the use of neural networks, and through several iterations (aka. epochs), the network can learn to recognize patterns or extract key features in the data to make future predictions.\n",
        "\n",
        "**Neural Networks** are a computational model that was inspired by neurobiology, more specifically the human brain. They consist of interconnected nodes (inspired by neurons) stacked in multiple layers to process the input data and have its results passed on to the next layer. Every node also have weights associated with it to control how and when the node will be activated, allowing for fine-tuning of the deep learning algorithm."
      ]
    },
    {
      "cell_type": "markdown",
      "id": "3c311a88",
      "metadata": {
        "id": "3c311a88"
      },
      "source": [
        "## **Introduction**\n",
        "\n",
        "For this project, the dataset used to undergo deep learning is known as Kuzushiji-MNIST (or KMNIST) from TensorFlow datasets. This dataset is utilized because it has a large-enough dataset for training and testing, with a total of 70,000 grayscale images. This dataset is also a drop-in replacement for the MNIST dataset. [1]\n",
        "\n",
        "KMNIST is a dataset consisting of Kuzushiji characters, which refers to ancient cursive Japanese characters or scripts in old Japanese texts and manuscripts. The cursive nature of the characters makes the deep learning and classification of the characters difficult, as there are multiple variations for every character. This means that the model to be developed for this classification problem have to be more robust than that of the MNIST dataset. With only 70,000 images, the dataset may not contain every Kuzushiji character and may reflect certain inaccuracies if comparing the results against a different Kuzushiji dataset."
      ]
    },
    {
      "cell_type": "markdown",
      "source": [
        "### **Goal**\n",
        "\n",
        "This project aims to use deep learning to classify and predict Kuzushiji characters with the use of Kuzushiji-MNIST (KMNIST) dataset. This is achieved by developing a sufficiently robust neural network model that can accurately classify Kuzushiji characters with high accuracy, f1-score and cohen's kappa score.\n",
        "\n",
        "- Accuracy represents the number of correct classifications over the total number of classification attempts, and the goal is to achieve **>80%** accuracy.\n",
        "- F1-Score indicates the overall performance of the classification model and can reflect on how it can correctly identify positive cases while minimizing false positives and negatives. The goal is to achieve **>80%** f1-score.\n",
        "- Cohen's Kappa Score indicates the classification model's accuracy, and the goal is to achieve **>80%** score."
      ],
      "metadata": {
        "id": "Q-KyaLPIEaml"
      },
      "id": "Q-KyaLPIEaml"
    },
    {
      "cell_type": "markdown",
      "id": "530c027c",
      "metadata": {
        "id": "530c027c"
      },
      "source": [
        "## **Background**"
      ]
    },
    {
      "cell_type": "markdown",
      "source": [
        "### **What is Kuzushiji**\n",
        "\n",
        "Kuzushiji refers to ancient cursive Japanese characters or scripts in old Japanese texts and manuscripts. Kuzushiji is known for its highly cursive and elaborate characters, and was the predominant writing style for Japanese before the modernization of the language and the adoption of standardized characters known as Kanji, Hiragana, and Katakana.\n",
        "\n",
        "Kuzushiji was practiced over a thousand years prior to the modernization of the language, and as a result has a huge amount of untapped knowledge from the past. The use of modern Japanese language has led to Kuzushiji being forgotten. Old texts and manuscripts written in Kuzushiji are becoming increasingly difficult to understand, leading to a loss of important knowledge.\n",
        "\n",
        "However, there has been an growing interest in Kuzushiji as a subject of study and research by many scholars in hopes of better understanding old Japanese history, literature, culture, etc. The preservation and digitization of Kuzushiji texts is becoming more common, such as the KMNIST dataset."
      ],
      "metadata": {
        "id": "86Y3IuPo6Q9L"
      },
      "id": "86Y3IuPo6Q9L"
    },
    {
      "cell_type": "markdown",
      "source": [
        "### **Kuzushiji and Modern Japanese**\n",
        "\n",
        "The Japanese language has underwent multiple evolutions over its history, each has its key features and links back to Kuzushiji. It is however, during the modern evolution after the Meiji Restoration period (1868-1889) where Kuzushiji was threatened to become extinct.\n",
        "\n",
        "- **Old Japanese (8th to 11th century)**: The earliest known Japanese texts, such as the Kojiki and Nihon Shoki, were written in a form of Old Japanese. This period saw the use of Chinese characters (kanji) for writing, along with two phonetic scripts, hiragana and katakana, which developed from kanji. Kuzushiji emerged as a cursive form of writing kanji, allowing for faster writing and more expressive characters.\n",
        "\n",
        "- **Middle Japanese (12th to 16th century)**: During the medieval period, known as the late Middle Japanese period, the language underwent significant changes in pronunciation, grammar, and vocabulary. Kuzushiji became more prevalent in handwritten texts, especially in literature, poetry, and personal correspondence.\n",
        "\n",
        "- **Early Modern Japanese (17th to 19th century)**: The early modern period saw the widespread use of Kuzushiji in official documents, literature, and personal letters. Despite efforts to standardize the language and writing system, Kuzushiji remained in use alongside standard kanji.\n",
        "\n",
        "- **Modern Japanese (Late 19th century to present)**: In the late 19th century, the Meiji Restoration brought about significant changes to the Japanese language. The government promoted the adoption of a standardized form of Japanese based on Tokyo dialect and simplified the writing system. Kuzushiji gradually fell out of use in official documents and publications, replaced by modern printed fonts.\n",
        "\n",
        "With the history of the Japanese language laid out in a simplified timeline, it tells us that modern Japanese is only used from the late 19th century. However, this change is leading to a potential loss of knowledge and old literature as few people can read and understand Kuzushiji."
      ],
      "metadata": {
        "id": "w3touWflCiIr"
      },
      "id": "w3touWflCiIr"
    },
    {
      "cell_type": "markdown",
      "source": [
        "## **Methodology**"
      ],
      "metadata": {
        "id": "Ba7f-w2PL6fJ"
      },
      "id": "Ba7f-w2PL6fJ"
    },
    {
      "cell_type": "markdown",
      "source": [
        "### **Approach**\n",
        "\n",
        "- Conduct data split on the dataset.\n",
        "- Reshape & tranform the data to prepare for deep learning models.\n",
        "- Develop underfitting and overfitting models.\n",
        "- Develop regularized models on either of the previous models.\n",
        "- Use appropriate regularized model on entire dataset, and evalute the results."
      ],
      "metadata": {
        "id": "6WEqOXj-EOTH"
      },
      "id": "6WEqOXj-EOTH"
    },
    {
      "cell_type": "markdown",
      "source": [
        "### **Installing Packages & Libraries**"
      ],
      "metadata": {
        "id": "CTr0JixtMT-1"
      },
      "id": "CTr0JixtMT-1"
    },
    {
      "cell_type": "code",
      "execution_count": 1,
      "id": "EVcF-0fqrIzN",
      "metadata": {
        "colab": {
          "base_uri": "https://localhost:8080/"
        },
        "id": "EVcF-0fqrIzN",
        "outputId": "9c429b0b-24eb-457b-e11a-52d7c94ab825"
      },
      "outputs": [
        {
          "output_type": "stream",
          "name": "stdout",
          "text": [
            "Collecting extra_keras_datasets\n",
            "  Downloading extra_keras_datasets-1.2.0-py3-none-any.whl (12 kB)\n",
            "Requirement already satisfied: numpy in /usr/local/lib/python3.10/dist-packages (from extra_keras_datasets) (1.25.2)\n",
            "Requirement already satisfied: scipy in /usr/local/lib/python3.10/dist-packages (from extra_keras_datasets) (1.11.4)\n",
            "Requirement already satisfied: pandas in /usr/local/lib/python3.10/dist-packages (from extra_keras_datasets) (1.5.3)\n",
            "Requirement already satisfied: scikit-learn in /usr/local/lib/python3.10/dist-packages (from extra_keras_datasets) (1.2.2)\n",
            "Requirement already satisfied: python-dateutil>=2.8.1 in /usr/local/lib/python3.10/dist-packages (from pandas->extra_keras_datasets) (2.8.2)\n",
            "Requirement already satisfied: pytz>=2020.1 in /usr/local/lib/python3.10/dist-packages (from pandas->extra_keras_datasets) (2023.4)\n",
            "Requirement already satisfied: joblib>=1.1.1 in /usr/local/lib/python3.10/dist-packages (from scikit-learn->extra_keras_datasets) (1.3.2)\n",
            "Requirement already satisfied: threadpoolctl>=2.0.0 in /usr/local/lib/python3.10/dist-packages (from scikit-learn->extra_keras_datasets) (3.3.0)\n",
            "Requirement already satisfied: six>=1.5 in /usr/local/lib/python3.10/dist-packages (from python-dateutil>=2.8.1->pandas->extra_keras_datasets) (1.16.0)\n",
            "Installing collected packages: extra_keras_datasets\n",
            "Successfully installed extra_keras_datasets-1.2.0\n"
          ]
        }
      ],
      "source": [
        "pip install extra_keras_datasets"
      ]
    },
    {
      "cell_type": "code",
      "execution_count": 2,
      "id": "WK_pfCnHelKG",
      "metadata": {
        "id": "WK_pfCnHelKG"
      },
      "outputs": [],
      "source": [
        "# Import libraries and packages to conduct deep learning\n",
        "import os\n",
        "import numpy as np\n",
        "import pandas as pd\n",
        "import matplotlib.pyplot as plt\n",
        "\n",
        "import tensorflow as tf\n",
        "import tensorflow_datasets as tfds\n",
        "from tensorflow import keras\n",
        "\n",
        "from keras import models, layers, regularizers\n",
        "from keras.utils import to_categorical\n",
        "from keras.models import Sequential\n",
        "from keras.layers import Dense, Dropout, Activation, Flatten\n",
        "from keras.callbacks import EarlyStopping, ModelCheckpoint, ReduceLROnPlateau\n",
        "from extra_keras_datasets import kmnist\n",
        "\n",
        "from sklearn.model_selection import train_test_split\n",
        "from sklearn.metrics import precision_score, recall_score\n",
        "from sklearn.metrics import f1_score, cohen_kappa_score\n",
        "\n",
        "import warnings\n",
        "warnings.filterwarnings('ignore')"
      ]
    },
    {
      "cell_type": "markdown",
      "id": "d6A_2bC5fMHg",
      "metadata": {
        "id": "d6A_2bC5fMHg"
      },
      "source": [
        "### **Data Preprocessing**\n",
        "\n",
        "Before developing a model and evaluating its performance against a baseline, the dataset needs to be prepared to be acceptable for the model. There are multiple steps to prepare the data and are stated below:\n",
        "\n",
        "1. Acquire the dataset and split the data into train:validate:test splits (3:1:1)\n",
        "2. Normalize image pixels from [0, 255] to [0, 1]\n",
        "3. Reshape/flatten the data from 2D array to 1D vector\n",
        "3. One-Hot Encoding, to convert each label into a 10 element vector with a non-zero value"
      ]
    },
    {
      "cell_type": "code",
      "source": [
        "DATASET = 'kmnist'\n",
        "DATASET_SIZE = 70000\n",
        "TRAIN_SIZE = 0.6\n",
        "VALIDATION_SIZE = 0.2\n",
        "TEST_SIZE = 0.2"
      ],
      "metadata": {
        "id": "w_Cmhe76WYDz"
      },
      "id": "w_Cmhe76WYDz",
      "execution_count": 3,
      "outputs": []
    },
    {
      "cell_type": "code",
      "execution_count": 4,
      "id": "qL9ZWesyx42a",
      "metadata": {
        "colab": {
          "base_uri": "https://localhost:8080/",
          "height": 341,
          "referenced_widgets": [
            "8e001019a1b943fb9ea64d0bf04294e5",
            "e3b01b26907f453a908f314b3421f5b0",
            "7f7c750576ca43b98bdc7c5e483b3bca",
            "673f154f47b94dca9ccab542f2fd5c45",
            "bb299aed0ea245168cbab56f294b7b86",
            "901b0eb3e0d8446bb45b60b0e115fa8f",
            "243c1777094f486cbb958354a4fec027",
            "2e4b7810a67e4feca535d3d6003c6b66",
            "f5ceb9732bf8460c96fccf9202706a34",
            "1eed936af9734c8bade98eff5a2a7b18",
            "e8eb36f28f8845879c959aad98a37852",
            "09f6bf2a2dae4f42a5dc64d43c2f0b0a",
            "9989d57c612b4434960f49574daded19",
            "34daafbe90584978811cb6e70728c860",
            "962ed59378ea467a875a1dec801da724",
            "be3c360f495a494e8a411399188884f0",
            "8da7f3b99b234fd9affb81897b935bca",
            "4c44b53577f542dfb4a03cc7c67419d8",
            "2f6c44938dd04339ab2fd943506fe3db",
            "443ef51bc44f4a7bb11752d671fa8568",
            "28d86063c98c438ea1608fb96c1a1434",
            "e4f3918d76b84b5dbc793d704bbab5eb",
            "ad9e098e8ef2408db525047a103913f1",
            "d48dfad297ee42dd9b96170b9ef5b594",
            "c562ba4ef0c1444b9128fcbb5c128244",
            "68673b50ec0e484aa165468d88672f0f",
            "0f3bdf691b89446d8b31c0b76a7f7509",
            "70911174fde44076ad69c15891a4bf30",
            "6cb1bf703f8540a7a2fcad39e1051b3a",
            "71c0a89840cb413c8c19296508080915",
            "698391782f9548439bcd5ced75d97c48",
            "37918e8082474c8abb9591cc0f780344",
            "95f750077fd84729998fbd8ce368dfb7",
            "dee37368b5a044289f5a385d31196a22",
            "cdab2bb9afbe419bbd523debf81574ed",
            "a578a44ca83f477fba43d8fe9284bbb3",
            "7388f243c5c34f9aa69c080e62d2174e",
            "0f362884fcb74bcc9755904e0ea01f69",
            "2c275864bd8f42d4a980996add89d694",
            "8458c72d260a4c5492110513bbd1cca0",
            "531178dc3c58451e80e34afe447d964b",
            "03acba0daa37455fa2a3a3ec0c32c53c",
            "444198a5d21f4625967483852f34f0e3",
            "e37e5a60b36b43f899a5aa4ec7c4a45f",
            "8c6d51a3863445f49a41276208008c9a",
            "98ccf1b1e23a44c8b5b72970eeb09beb",
            "1c604431ef144ba6807e564425f18000",
            "3c947bcaf7884eae9e5b3da90145e95a",
            "4bc4b5fa451e481790bb9b2f31b9a2b5",
            "630ae56d82b94a0eb96844cf0b3dfa48",
            "793b6aa7bef54d2998c0c485997265ff",
            "1a50c75dc796403ead38150437b40d43",
            "12bf8bf5e23a49338500775b07db2d6e",
            "13ec78859cb64d83bf7ab43dd3886b0e",
            "80b041bd51b04b4883b19ecb14e89389",
            "4ba24a4f2be3484184a2c2f85834e631",
            "aeeb5455129c4a73937b34d1408041b9",
            "c423d66357454524b9bf7bfb243ffe4b",
            "b49a6d3f9b4245a69b0533eb30d4b77d",
            "bf7ebc2f32b84136adb96117da8ff58c",
            "5f72d2ab3fef468db4b00ea506e05764",
            "cf8cc7d3def14569b7a2a7ca7d19cf18",
            "7bd38521a871422d8215a83d6ce9c792",
            "56a9bb21bf99435b8dc5969720b0ccea",
            "76f15d2aa95844f5a8e9898c6cf050ba",
            "40776680dd2c45b390819125cdba115e",
            "7d38d3cf5fde4e9db670c85952f6f3ce",
            "62f7cd2358ef426ea797ede99a9e8fd2",
            "b820a933a6464c32ac81ff7ab5275012",
            "4a2712eae2024fc3b14d6ab7adc38d3a",
            "d75a3cd9600547fb9655a8c6204a9c01",
            "2c37e6ac29134b67af317ef90896ba35",
            "bb042de5ec1941a5b5272e6d2aa3eeb6",
            "97c51abdc25c41d6bb0f93cdf3205e4c",
            "acf690cb78a24f3c827a23b3e939b457",
            "a156438c91984899b9c9927a0952cecb",
            "9c6b2b4ceff14017993148b5b6a6fb44",
            "2b0daea0f72d4bdab287b5c9d85fbcc5",
            "dedb30bf67ab42da87b84030c89f198c",
            "a73f5e29cad14e64a56f85e89be75749",
            "accd1167c669423d8b1428f2146e956c",
            "6e4c20c824ae4b84b5635bbf05757021",
            "fec80feca8dc40ba9f58b13da88fe738",
            "8b07a4919cba4320a979e652ced74770",
            "2209cbe8455c48a59f86e36e88dfd32d",
            "5693e0be451b46f5bc100971ad170dd9",
            "1771c78847b94f5790fd24dd89735c99",
            "87d382b67caf41938e44278292a543c6"
          ]
        },
        "id": "qL9ZWesyx42a",
        "outputId": "eff944e4-6e8f-406b-9c9e-642718500443"
      },
      "outputs": [
        {
          "output_type": "stream",
          "name": "stdout",
          "text": [
            "Downloading and preparing dataset 20.26 MiB (download: 20.26 MiB, generated: 31.76 MiB, total: 52.02 MiB) to /root/tensorflow_datasets/kmnist/3.0.1...\n"
          ]
        },
        {
          "output_type": "display_data",
          "data": {
            "text/plain": [
              "Dl Completed...: 0 url [00:00, ? url/s]"
            ],
            "application/vnd.jupyter.widget-view+json": {
              "version_major": 2,
              "version_minor": 0,
              "model_id": "8e001019a1b943fb9ea64d0bf04294e5"
            }
          },
          "metadata": {}
        },
        {
          "output_type": "display_data",
          "data": {
            "text/plain": [
              "Dl Size...: 0 MiB [00:00, ? MiB/s]"
            ],
            "application/vnd.jupyter.widget-view+json": {
              "version_major": 2,
              "version_minor": 0,
              "model_id": "09f6bf2a2dae4f42a5dc64d43c2f0b0a"
            }
          },
          "metadata": {}
        },
        {
          "output_type": "display_data",
          "data": {
            "text/plain": [
              "Extraction completed...: 0 file [00:00, ? file/s]"
            ],
            "application/vnd.jupyter.widget-view+json": {
              "version_major": 2,
              "version_minor": 0,
              "model_id": "ad9e098e8ef2408db525047a103913f1"
            }
          },
          "metadata": {}
        },
        {
          "output_type": "display_data",
          "data": {
            "text/plain": [
              "Generating splits...:   0%|          | 0/2 [00:00<?, ? splits/s]"
            ],
            "application/vnd.jupyter.widget-view+json": {
              "version_major": 2,
              "version_minor": 0,
              "model_id": "dee37368b5a044289f5a385d31196a22"
            }
          },
          "metadata": {}
        },
        {
          "output_type": "display_data",
          "data": {
            "text/plain": [
              "Generating train examples...:   0%|          | 0/60000 [00:00<?, ? examples/s]"
            ],
            "application/vnd.jupyter.widget-view+json": {
              "version_major": 2,
              "version_minor": 0,
              "model_id": "8c6d51a3863445f49a41276208008c9a"
            }
          },
          "metadata": {}
        },
        {
          "output_type": "display_data",
          "data": {
            "text/plain": [
              "Shuffling /root/tensorflow_datasets/kmnist/3.0.1.incompleteOKFN91/kmnist-train.tfrecord*...:   0%|          | …"
            ],
            "application/vnd.jupyter.widget-view+json": {
              "version_major": 2,
              "version_minor": 0,
              "model_id": "4ba24a4f2be3484184a2c2f85834e631"
            }
          },
          "metadata": {}
        },
        {
          "output_type": "display_data",
          "data": {
            "text/plain": [
              "Generating test examples...:   0%|          | 0/10000 [00:00<?, ? examples/s]"
            ],
            "application/vnd.jupyter.widget-view+json": {
              "version_major": 2,
              "version_minor": 0,
              "model_id": "7d38d3cf5fde4e9db670c85952f6f3ce"
            }
          },
          "metadata": {}
        },
        {
          "output_type": "display_data",
          "data": {
            "text/plain": [
              "Shuffling /root/tensorflow_datasets/kmnist/3.0.1.incompleteOKFN91/kmnist-test.tfrecord*...:   0%|          | 0…"
            ],
            "application/vnd.jupyter.widget-view+json": {
              "version_major": 2,
              "version_minor": 0,
              "model_id": "2b0daea0f72d4bdab287b5c9d85fbcc5"
            }
          },
          "metadata": {}
        },
        {
          "output_type": "stream",
          "name": "stdout",
          "text": [
            "Dataset kmnist downloaded and prepared to /root/tensorflow_datasets/kmnist/3.0.1. Subsequent calls will reuse this data.\n",
            "Downloading data from http://codh.rois.ac.jp/kmnist/dataset/kmnist/kmnist-train-imgs.npz\n",
            "18384171/18384171 [==============================] - 14s 1us/step\n",
            "Downloading data from http://codh.rois.ac.jp/kmnist/dataset/kmnist/kmnist-train-labels.npz\n",
            "29700/29700 [==============================] - 0s 4us/step\n",
            "Downloading data from http://codh.rois.ac.jp/kmnist/dataset/kmnist/kmnist-test-imgs.npz\n",
            "3079479/3079479 [==============================] - 2s 1us/step\n",
            "Downloading data from http://codh.rois.ac.jp/kmnist/dataset/kmnist/kmnist-test-labels.npz\n",
            "5304/5304 [==============================] - 0s 0us/step\n"
          ]
        },
        {
          "output_type": "stream",
          "name": "stderr",
          "text": [
            "WARNING:root:Please cite the following paper when using or referencing this Extra Keras Dataset:\n",
            "WARNING:root:Clanuwat, T., Bober-Irizar, M., Kitamoto, A., Lamb, A., Yamamoto, K., & Ha, D. (2018). Deep learning for classical Japanese literature arXiv preprint arXiv:1812.01718. Retrieved from https://arxiv.org/abs/1812.01718\n"
          ]
        }
      ],
      "source": [
        "ds = tfds.load(DATASET, split='all', shuffle_files=True)\n",
        "\n",
        "(x_train, y_train), (x_test, y_test) = kmnist.load_data(type='kmnist')\n",
        "X = np.concatenate([x_train, x_test])\n",
        "y = np.concatenate([y_train, y_test])\n",
        "\n",
        "X_train, X_val, y_train, y_val = train_test_split(X, y, test_size=(1-TRAIN_SIZE), shuffle=True)\n",
        "X_val, X_test, y_val, y_test = train_test_split(X_val, y_val, test_size=TEST_SIZE/(TEST_SIZE+VALIDATION_SIZE), shuffle=True)"
      ]
    },
    {
      "cell_type": "code",
      "source": [
        "# Normalise pixels from [0, 255] to [0, 1], and convert to floats\n",
        "X_train = X_train.astype('float32')/255\n",
        "X_test = X_test.astype('float32')/255\n",
        "X_val = X_val.astype('float32')/255"
      ],
      "metadata": {
        "id": "5SIrv1srciPw"
      },
      "id": "5SIrv1srciPw",
      "execution_count": 5,
      "outputs": []
    },
    {
      "cell_type": "code",
      "execution_count": 6,
      "id": "1SJ2fzcfCkXh",
      "metadata": {
        "colab": {
          "base_uri": "https://localhost:8080/"
        },
        "id": "1SJ2fzcfCkXh",
        "outputId": "4cdcd153-1a08-4728-a009-1e1328a7e383"
      },
      "outputs": [
        {
          "output_type": "stream",
          "name": "stdout",
          "text": [
            "train_image:  (42000, 28, 28)\n",
            "train_labels:  (42000,)\n",
            "val_image:  (14000, 28, 28)\n",
            "val_labels:  (14000,)\n",
            "test_image:  (14000, 28, 28)\n",
            "test_labels:  (14000,)\n"
          ]
        }
      ],
      "source": [
        "# Figure out the split of the dataset between 'image' and 'labels', as well as training, validation, and testing sets.\n",
        "print(\"train_image: \", X_train.shape)\n",
        "print(\"train_labels: \", y_train.shape)\n",
        "print(\"val_image: \", X_val.shape)\n",
        "print(\"val_labels: \", y_val.shape)\n",
        "print(\"test_image: \", X_test.shape)\n",
        "print(\"test_labels: \", y_test.shape)"
      ]
    },
    {
      "cell_type": "code",
      "source": [
        "# Reshape the data to be acceptable for the deep learning model (from 2D array to 1D vector)\n",
        "\n",
        "# Reshape 2D array to 1D vector\n",
        "X_train = X_train.reshape(42000, 28*28)\n",
        "X_test = X_test.reshape(14000, 28*28)\n",
        "X_val = X_val.reshape(14000, 28*28)"
      ],
      "metadata": {
        "id": "j8u_Dr6X4z_g"
      },
      "id": "j8u_Dr6X4z_g",
      "execution_count": 7,
      "outputs": []
    },
    {
      "cell_type": "code",
      "execution_count": 8,
      "id": "J7FOMDPsBRYE",
      "metadata": {
        "id": "J7FOMDPsBRYE"
      },
      "outputs": [],
      "source": [
        "# Conduct One-Hot Encoding with the \"to_catergorical\" function\n",
        "y_train = to_categorical(y_train)\n",
        "y_test = to_categorical(y_test)\n",
        "y_val = to_categorical(y_val)"
      ]
    },
    {
      "cell_type": "code",
      "execution_count": 9,
      "id": "AaFhBUqCCoBo",
      "metadata": {
        "colab": {
          "base_uri": "https://localhost:8080/"
        },
        "id": "AaFhBUqCCoBo",
        "outputId": "2226c41c-52c7-4b9c-ca05-2111b69ad170"
      },
      "outputs": [
        {
          "output_type": "stream",
          "name": "stdout",
          "text": [
            "kmnist_train_img (42000, 784)\n",
            "kmnist_train_labels (42000, 10)\n",
            "kmnist_test_img (14000, 784)\n",
            "kmnist_test_labels (14000, 10)\n",
            "kmnist_val_img (14000, 784)\n",
            "kmnist_val_img (14000, 10)\n"
          ]
        }
      ],
      "source": [
        "# Check the split of the dataset between 'image' and 'labels', as well as training, validation, and testing sets.\n",
        "print(\"kmnist_train_img\", X_train.shape)\n",
        "print(\"kmnist_train_labels\", y_train.shape)\n",
        "print(\"kmnist_test_img\", X_test.shape)\n",
        "print(\"kmnist_test_labels\", y_test.shape)\n",
        "print(\"kmnist_val_img\", X_val.shape)\n",
        "print(\"kmnist_val_img\", y_val.shape)"
      ]
    },
    {
      "cell_type": "markdown",
      "id": "qSki4-lkSoId",
      "metadata": {
        "id": "qSki4-lkSoId"
      },
      "source": [
        "## **Evaluation Metrics**\n",
        "\n",
        "To evaluate the performance of the models, the accuracy and loss metrics need to be determined to better understand the model. These 2 metrics help determine the fitting of the model, allowing us to better understand if the model is underfitted, overfitted, or is a good fit.\n",
        "\n",
        "2 separate functions are to plot training and validation accuracy of the model, and to plot training and validation loss of the model. Creating graphs will help us visualize the accuracy/loss across the number of epochs (iterations). These 2 functions are also created separately to help with modularity of the code.\n",
        "\n",
        "To evaluate each model, the accuracy would be used to determine how well the model performs. Additionally, other metrics such as the f1-scores Cohen's Kappa score can be used.\n",
        "\n",
        "F1 score indicates the overall performance of a binary classification model. Cohen's Kappa score represents the classification model's accuracy. Both metrics are particularly useful as the deep learning model is a classification model, and reflects its performance."
      ]
    },
    {
      "cell_type": "markdown",
      "source": [
        "### **Training and Validation Accuracy**\n",
        "\n",
        "**Training and Validation Accuracy** is the key metric in indicating how well the model is correctly classifying the samples. This is what we would use to determine how well the model is doing, where the higher the accuracy the better. However, accuracy can get affected by the number of samples, and the splitting of the whole dataset into 3 (training, validation, testing) can affect the resulting accuracy value.\n",
        "\n",
        "Training accuracy represents how well the model correctly classifies the samples during training, and validation accuracy indicates how well the model correctly classifies samples on new data."
      ],
      "metadata": {
        "id": "zYaibDMwQB6w"
      },
      "id": "zYaibDMwQB6w"
    },
    {
      "cell_type": "code",
      "execution_count": 10,
      "id": "BbCAj2Y0bziJ",
      "metadata": {
        "id": "BbCAj2Y0bziJ"
      },
      "outputs": [],
      "source": [
        "# Creating a function to plot a training & validation Accuracy graph\n",
        "def accuracy_plot(acc, val_acc):\n",
        "  plt.clf()   #Remove any existing figures\n",
        "  epochs = range(1, len(acc)+1) # get number of epochs\n",
        "\n",
        "  # assign values for each axis\n",
        "  plt.plot(epochs, acc, 'b.', label=\"Accuracy\")\n",
        "  plt.plot(epochs, val_acc, 'r.', label=\"Validation Accuracy\")\n",
        "\n",
        "  # Set title for graph and axes\n",
        "  plt.title(\"Training Accuracy & Validation Accuracy\")\n",
        "  plt.xlabel(\"Epochs\")\n",
        "  plt.ylabel(\"Accuracy\")\n",
        "  plt.legend()\n",
        "  plt.grid()\n",
        "  plt.show()"
      ]
    },
    {
      "cell_type": "markdown",
      "source": [
        "### **Training and Validation Loss**\n",
        "\n",
        "**Training and Validation Loss** is an important metric as it quantifies how far the model's prediction is from the correct classification. This is used in tandem with accuracy as it shows how the model's predictions are incorrect, and both metrics are 2 sides of the same coin.\n",
        "\n",
        "Training loss represents how the model incorrectly classifies the samples during training, and validation loss indicates how the model incorrectly classifies samples on new data."
      ],
      "metadata": {
        "id": "RlhTDsigP1RS"
      },
      "id": "RlhTDsigP1RS"
    },
    {
      "cell_type": "code",
      "execution_count": 11,
      "id": "ubV6IBuYSjdN",
      "metadata": {
        "id": "ubV6IBuYSjdN"
      },
      "outputs": [],
      "source": [
        "# Creating a function to plot a training & validation loss graph\n",
        "def loss_plot(loss, val_loss):\n",
        "  plt.clf()   # Remove any existing figures\n",
        "  epochs = range(1, len(loss)+1)  # get number of epochs\n",
        "\n",
        "  # Assign values for each axis\n",
        "  plt.plot(epochs, loss, 'b.', label=\"Training Loss\")\n",
        "  plt.plot(epochs, val_loss, 'r.', label=\"Validation Loss\")\n",
        "\n",
        "  # Set title for graph and axes\n",
        "  plt.title(\"Training Loss & Validation Loss\")\n",
        "  plt.xlabel(\"Epochs\")\n",
        "  plt.ylabel(\"Loss\")\n",
        "  plt.legend()\n",
        "  plt.grid()\n",
        "  plt.show()"
      ]
    },
    {
      "cell_type": "markdown",
      "id": "Q-59YvuhDNoN",
      "metadata": {
        "id": "Q-59YvuhDNoN"
      },
      "source": [
        "### **Optimizer**\n",
        "\n",
        "As the goal of the deep learning model is to maximize accuracy and minimize loss, optimizer can be utilized. Optimizers are functions/algorithms that help adjusts the attributes of a neural network such as the weights and learning rates. This helps reduce overall loss of the model and increasing overall accuracy.\n",
        "\n",
        "There are many types of optimizers commonly used for neural network models, with the most common ones being Stochastic Gradient Descent (SGD) algorithms and Root Mean Squared Propagation (RMSprop) algorithms.\n",
        "\n",
        "The Adaptive Moment Estimation or \"Adam\" optimizer can be viewed as a variant and combination of SGD algorithm and RMSprop algorithm. Adam is a well-known optimizer and works well in training deep learning models. Therefore, Adam will be used for this project to help lower overall loss and increase accuracy for the model."
      ]
    },
    {
      "cell_type": "markdown",
      "id": "_myiWciTECbt",
      "metadata": {
        "id": "_myiWciTECbt"
      },
      "source": [
        "### **Naive Baseline**\n",
        "\n",
        "After looking at the KMNIST dataset, there are a total of 10 labels and each label represents each of the 10 rows of Japanese characters. Hence, the naive baseline would be 100% divided by the 10 labels, which would be **10%**. The models to be developed should do better than the naive baseline."
      ]
    },
    {
      "cell_type": "markdown",
      "id": "En2DfY2QwQNl",
      "metadata": {
        "id": "En2DfY2QwQNl"
      },
      "source": [
        "## **Develop Models using hold-out validation**\n",
        "\n",
        "To develop models for this project, hold-out validation would be followed. Hold-out validation works by splitting the dataset into 'train' and 'test' sets, where the model is developed using the training set and then its performance will be evaluated using the test set."
      ]
    },
    {
      "cell_type": "markdown",
      "id": "CTGJMhTxUfcy",
      "metadata": {
        "id": "CTGJMhTxUfcy"
      },
      "source": [
        "### **Underfitted Model**\n",
        "\n",
        "Underfitting is the process of oversimplifying the data used when training the model. This is useful as it does not fully take all environmental aspects when training, which results in quicker training of the model. The purpose is to have a rough sensing of how the model is performing as the model would produce oversimplified results."
      ]
    },
    {
      "cell_type": "code",
      "execution_count": 12,
      "id": "5d7f7F2OcLC3",
      "metadata": {
        "id": "5d7f7F2OcLC3"
      },
      "outputs": [],
      "source": [
        "# Create empty network\n",
        "underfit_model = models.Sequential(name='Underfit')\n",
        "\n",
        "# Add layers\n",
        "underfit_model.add(layers.Dense(10, activation='softmax'))"
      ]
    },
    {
      "cell_type": "code",
      "execution_count": 13,
      "id": "oTSZfrm8d0Tr",
      "metadata": {
        "id": "oTSZfrm8d0Tr"
      },
      "outputs": [],
      "source": [
        "# Compile network & assign optimizer, loss and metrics\n",
        "underfit_model.compile(optimizer='adam', loss='categorical_crossentropy', metrics=['accuracy'])"
      ]
    },
    {
      "cell_type": "code",
      "execution_count": 14,
      "id": "JuB3pC87ipnl",
      "metadata": {
        "id": "JuB3pC87ipnl"
      },
      "outputs": [],
      "source": [
        "# Fit training data to the network\n",
        "underfit_results = underfit_model.fit(X_train, y_train, epochs=10, batch_size=128, validation_data=(X_test, y_test), verbose=0)"
      ]
    },
    {
      "cell_type": "code",
      "execution_count": 15,
      "id": "_kYCFHvSjFQb",
      "metadata": {
        "colab": {
          "base_uri": "https://localhost:8080/"
        },
        "id": "_kYCFHvSjFQb",
        "outputId": "b262a880-03fe-4fcc-97ce-93dd98648323"
      },
      "outputs": [
        {
          "output_type": "stream",
          "name": "stdout",
          "text": [
            "Model: \"Underfit\"\n",
            "_________________________________________________________________\n",
            " Layer (type)                Output Shape              Param #   \n",
            "=================================================================\n",
            " dense (Dense)               (None, 10)                7850      \n",
            "                                                                 \n",
            "=================================================================\n",
            "Total params: 7850 (30.66 KB)\n",
            "Trainable params: 7850 (30.66 KB)\n",
            "Non-trainable params: 0 (0.00 Byte)\n",
            "_________________________________________________________________\n"
          ]
        }
      ],
      "source": [
        "# Display network summary\n",
        "underfit_model.summary()"
      ]
    },
    {
      "cell_type": "code",
      "source": [
        "# Plot training & validation accuracy of model\n",
        "accuracy_plot(underfit_results.history['accuracy'], underfit_results.history['val_accuracy'])\n",
        "\n",
        "# Plot training & validation loss of model\n",
        "loss_plot(underfit_results.history['loss'], underfit_results.history['val_loss'])"
      ],
      "metadata": {
        "colab": {
          "base_uri": "https://localhost:8080/",
          "height": 927
        },
        "id": "htkl9PsS6th6",
        "outputId": "c7212027-5a60-46a3-d719-732c0fbba91a"
      },
      "id": "htkl9PsS6th6",
      "execution_count": 16,
      "outputs": [
        {
          "output_type": "display_data",
          "data": {
            "text/plain": [
              "<Figure size 640x480 with 1 Axes>"
            ],
            "image/png": "[encoded data removed]"
          },
          "metadata": {}
        },
        {
          "output_type": "display_data",
          "data": {
            "text/plain": [
              "<Figure size 640x480 with 1 Axes>"
            ],
            "image/png": "[encoded data removed]"
          },
          "metadata": {}
        }
      ]
    },
    {
      "cell_type": "code",
      "execution_count": 17,
      "id": "h36dxr_jsaiG",
      "metadata": {
        "colab": {
          "base_uri": "https://localhost:8080/"
        },
        "id": "h36dxr_jsaiG",
        "outputId": "e140e99f-edb3-4a14-8803-6b0779933130"
      },
      "outputs": [
        {
          "output_type": "stream",
          "name": "stdout",
          "text": [
            "438/438 [==============================] - 1s 1ms/step - loss: 0.6623 - accuracy: 0.7998\n"
          ]
        }
      ],
      "source": [
        "# Evaluate the model's loss & accuracy\n",
        "test_loss, test_acc = underfit_model.evaluate(X_val, y_val)"
      ]
    },
    {
      "cell_type": "markdown",
      "id": "eCM-UwK9tVP0",
      "metadata": {
        "id": "eCM-UwK9tVP0"
      },
      "source": [
        "Both the training & validation accuracy and the training & validation loss seen in the plots above shows a similar curve. As expected with an underfitted model. The underfitted model's results above also shows about **80% accuracy** and about **65% loss**, this result shows how well it does despite being underfitted. This does much better than the 10% naive baseline."
      ]
    },
    {
      "cell_type": "markdown",
      "id": "sxMpvrYtvVCT",
      "metadata": {
        "id": "sxMpvrYtvVCT"
      },
      "source": [
        "### **Overfitted Model**\n",
        "\n",
        "Overfitting is the process of overtraining the model with too much complex data. The model becomes overly-accustomed to the training data and fits the training data too well. The results of fitting the training data too well would result in it being less useful for new datasets. However, this is useful in determining where a well-fitted model will be by comparing it with the underfitted model."
      ]
    },
    {
      "cell_type": "code",
      "execution_count": 18,
      "id": "pMnBgOaSvb3Q",
      "metadata": {
        "id": "pMnBgOaSvb3Q"
      },
      "outputs": [],
      "source": [
        "# Create empty network\n",
        "overfit_model = models.Sequential(name=\"Overfit\")\n",
        "\n",
        "# Add layers\n",
        "overfit_model.add(layers.Dense(512, activation='relu', input_shape=(28*28,)))\n",
        "overfit_model.add(layers.Dense(124, activation='relu'))\n",
        "overfit_model.add(layers.Dense(46, activation='relu'))\n",
        "overfit_model.add(layers.Dense(10, activation='softmax'))"
      ]
    },
    {
      "cell_type": "code",
      "execution_count": 19,
      "id": "BxZCt-2FwlTp",
      "metadata": {
        "id": "BxZCt-2FwlTp"
      },
      "outputs": [],
      "source": [
        "# Compile network & assign optimizer, loss and metrics\n",
        "overfit_model.compile(optimizer='adam', loss='categorical_crossentropy', metrics=['accuracy'])"
      ]
    },
    {
      "cell_type": "code",
      "execution_count": 20,
      "id": "cTl6gmRBLIvB",
      "metadata": {
        "id": "cTl6gmRBLIvB"
      },
      "outputs": [],
      "source": [
        "# Fit training data to the network\n",
        "overfit_results = overfit_model.fit(X_train, y_train, epochs=50, batch_size=64, validation_data=(X_test, y_test), verbose=0)"
      ]
    },
    {
      "cell_type": "code",
      "execution_count": 21,
      "id": "iu8YCeaeo8t5",
      "metadata": {
        "colab": {
          "base_uri": "https://localhost:8080/"
        },
        "id": "iu8YCeaeo8t5",
        "outputId": "e328d52b-d6e8-4f45-ab6f-98a05e622784"
      },
      "outputs": [
        {
          "output_type": "stream",
          "name": "stdout",
          "text": [
            "Model: \"Overfit\"\n",
            "_________________________________________________________________\n",
            " Layer (type)                Output Shape              Param #   \n",
            "=================================================================\n",
            " dense_1 (Dense)             (None, 512)               401920    \n",
            "                                                                 \n",
            " dense_2 (Dense)             (None, 124)               63612     \n",
            "                                                                 \n",
            " dense_3 (Dense)             (None, 46)                5750      \n",
            "                                                                 \n",
            " dense_4 (Dense)             (None, 10)                470       \n",
            "                                                                 \n",
            "=================================================================\n",
            "Total params: 471752 (1.80 MB)\n",
            "Trainable params: 471752 (1.80 MB)\n",
            "Non-trainable params: 0 (0.00 Byte)\n",
            "_________________________________________________________________\n"
          ]
        }
      ],
      "source": [
        "# Display network summary\n",
        "overfit_model.summary()"
      ]
    },
    {
      "cell_type": "code",
      "source": [
        "# Plot training & validation accuracy of model\n",
        "accuracy_plot(overfit_results.history['accuracy'], overfit_results.history['val_accuracy'])\n",
        "\n",
        "# Plot training & validation loss of model\n",
        "loss_plot(overfit_results.history['loss'], overfit_results.history['val_loss'])"
      ],
      "metadata": {
        "colab": {
          "base_uri": "https://localhost:8080/",
          "height": 927
        },
        "id": "EpN-bWMsoHRs",
        "outputId": "f2b348b5-664c-4a7a-a101-c8475fcbc949"
      },
      "id": "EpN-bWMsoHRs",
      "execution_count": 22,
      "outputs": [
        {
          "output_type": "display_data",
          "data": {
            "text/plain": [
              "<Figure size 640x480 with 1 Axes>"
            ],
            "image/png": "[encoded data removed]"
          },
          "metadata": {}
        },
        {
          "output_type": "display_data",
          "data": {
            "text/plain": [
              "<Figure size 640x480 with 1 Axes>"
            ],
            "image/png": "[encoded data removed]"
          },
          "metadata": {}
        }
      ]
    },
    {
      "cell_type": "code",
      "source": [
        "# Evaluate the model's loss & accuracy\n",
        "test_loss, test_acc = overfit_model.evaluate(X_val, y_val)"
      ],
      "metadata": {
        "colab": {
          "base_uri": "https://localhost:8080/"
        },
        "id": "bK0_XcS_oXta",
        "outputId": "6f575a81-efbe-49de-97e2-f4d32fc5cdc0"
      },
      "id": "bK0_XcS_oXta",
      "execution_count": 23,
      "outputs": [
        {
          "output_type": "stream",
          "name": "stdout",
          "text": [
            "438/438 [==============================] - 2s 4ms/step - loss: 0.3052 - accuracy: 0.9604\n"
          ]
        }
      ]
    },
    {
      "cell_type": "markdown",
      "id": "fa5kaF5kp-0e",
      "metadata": {
        "id": "fa5kaF5kp-0e"
      },
      "source": [
        "For the training & validation accuracy plot, it shows a disparity between the accuracy results. This is also reflected in the training & validation loss plot above, where the validation loss is higher than that of training loss. This is expected as the model is overfitted, where the training data will do very well but not so well for new data. The overfitted model's results above also shows about **95% accuracy** and a range of **30-35% loss**. This result is better than the 10% of the naive baseline, and it also does better against the underfitted model."
      ]
    },
    {
      "cell_type": "markdown",
      "id": "SiOknW72qsgl",
      "metadata": {
        "id": "SiOknW72qsgl"
      },
      "source": [
        "## **Regularizing the Model**\n",
        "\n",
        "With both underfitted and overfitted models developed, regularization can be done on both models to develop a well-fitted model. 2 different methods are used and its results evaluated to develop a better model that can perform better than the underfitted and overfitted models."
      ]
    },
    {
      "cell_type": "markdown",
      "id": "W5JOcxEhsYdI",
      "metadata": {
        "id": "W5JOcxEhsYdI"
      },
      "source": [
        "### **Dropout Regularization**\n",
        "\n",
        "Dropout regularization works by disregarding or 'dropping' certain nodes in the neural network at random. The purpose is to help prevent overfitting of the model."
      ]
    },
    {
      "cell_type": "code",
      "execution_count": 24,
      "id": "B5owQGt1ssK3",
      "metadata": {
        "id": "B5owQGt1ssK3"
      },
      "outputs": [],
      "source": [
        "# Create empty network\n",
        "dropout_model = models.Sequential(name=\"DropOut\")\n",
        "\n",
        "# Add layers\n",
        "dropout_model.add(layers.Dense(512, activation='relu', input_shape=(28*28,)))\n",
        "\n",
        "# Add dropout layers\n",
        "dropout_model.add(layers.Dropout(0.7))\n",
        "dropout_model.add(layers.Dense(124, activation='relu'))\n",
        "dropout_model.add(layers.Dense(46, activation='relu'))\n",
        "dropout_model.add(layers.Dropout(0.7))\n",
        "dropout_model.add(layers.Dense(10, activation='softmax'))"
      ]
    },
    {
      "cell_type": "code",
      "execution_count": 25,
      "id": "roaFapcXyjFn",
      "metadata": {
        "id": "roaFapcXyjFn"
      },
      "outputs": [],
      "source": [
        "# Compile network & assign optimizer, loss and metrics\n",
        "dropout_model.compile(optimizer='adam', loss='categorical_crossentropy', metrics=['accuracy'])"
      ]
    },
    {
      "cell_type": "code",
      "execution_count": 26,
      "id": "E6S13BW_ytJk",
      "metadata": {
        "id": "E6S13BW_ytJk"
      },
      "outputs": [],
      "source": [
        "# Fit training data to the network\n",
        "dropout_result = dropout_model.fit(X_train, y_train, epochs=40, batch_size=128, validation_data=(X_test, y_test), verbose=0)"
      ]
    },
    {
      "cell_type": "code",
      "execution_count": 27,
      "id": "Lx88n4JvzQpf",
      "metadata": {
        "colab": {
          "base_uri": "https://localhost:8080/"
        },
        "id": "Lx88n4JvzQpf",
        "outputId": "0f43e8c8-bced-4d6e-843a-3b7aafccc8a4"
      },
      "outputs": [
        {
          "output_type": "stream",
          "name": "stdout",
          "text": [
            "Model: \"DropOut\"\n",
            "_________________________________________________________________\n",
            " Layer (type)                Output Shape              Param #   \n",
            "=================================================================\n",
            " dense_5 (Dense)             (None, 512)               401920    \n",
            "                                                                 \n",
            " dropout (Dropout)           (None, 512)               0         \n",
            "                                                                 \n",
            " dense_6 (Dense)             (None, 124)               63612     \n",
            "                                                                 \n",
            " dense_7 (Dense)             (None, 46)                5750      \n",
            "                                                                 \n",
            " dropout_1 (Dropout)         (None, 46)                0         \n",
            "                                                                 \n",
            " dense_8 (Dense)             (None, 10)                470       \n",
            "                                                                 \n",
            "=================================================================\n",
            "Total params: 471752 (1.80 MB)\n",
            "Trainable params: 471752 (1.80 MB)\n",
            "Non-trainable params: 0 (0.00 Byte)\n",
            "_________________________________________________________________\n"
          ]
        }
      ],
      "source": [
        "dropout_model.summary()"
      ]
    },
    {
      "cell_type": "code",
      "source": [
        "# Plot training & validation accuracy of model\n",
        "accuracy_plot(dropout_result.history['accuracy'], dropout_result.history['val_accuracy'])\n",
        "\n",
        "# Plot training & validation loss of model\n",
        "loss_plot(dropout_result.history['loss'], dropout_result.history['val_loss'])"
      ],
      "metadata": {
        "colab": {
          "base_uri": "https://localhost:8080/",
          "height": 927
        },
        "id": "i0x0J5tpxYrD",
        "outputId": "ea582f69-76ad-4e5d-f57b-a20889ec7faf"
      },
      "id": "i0x0J5tpxYrD",
      "execution_count": 28,
      "outputs": [
        {
          "output_type": "display_data",
          "data": {
            "text/plain": [
              "<Figure size 640x480 with 1 Axes>"
            ],
            "image/png": "[encoded data removed]"
          },
          "metadata": {}
        },
        {
          "output_type": "display_data",
          "data": {
            "text/plain": [
              "<Figure size 640x480 with 1 Axes>"
            ],
            "image/png": "[encoded data removed]"
          },
          "metadata": {}
        }
      ]
    },
    {
      "cell_type": "code",
      "source": [
        "# Evaluate the model's loss & accuracy\n",
        "test_loss, test_acc = dropout_model.evaluate(X_val, y_val)"
      ],
      "metadata": {
        "colab": {
          "base_uri": "https://localhost:8080/"
        },
        "id": "z4XEOA3IyOOg",
        "outputId": "999baddb-bf8e-48bf-b321-6b0ea5a4b5bf"
      },
      "id": "z4XEOA3IyOOg",
      "execution_count": 29,
      "outputs": [
        {
          "output_type": "stream",
          "name": "stdout",
          "text": [
            "438/438 [==============================] - 1s 3ms/step - loss: 0.1954 - accuracy: 0.9503\n"
          ]
        }
      ]
    },
    {
      "cell_type": "markdown",
      "source": [
        "Both training & validation accuracy and loss plots show a slight disparity between its results. Surprisingly, the dropout model is performing better with unseen data (validation data) as compared to the larger training dataset. The result shows about **95% accuracy** and about a **20% loss**, which are better than both the underfitted and overfitted models. However, more can be done to develop a model that can improve or maintain the accuracy while reducing the loss."
      ],
      "metadata": {
        "id": "gZHag2lFyfBw"
      },
      "id": "gZHag2lFyfBw"
    },
    {
      "cell_type": "markdown",
      "id": "iDv2VhPO1fFK",
      "metadata": {
        "id": "iDv2VhPO1fFK"
      },
      "source": [
        "### **L1 and L2 Regularization**\n",
        "\n",
        "L1 and L2 regularization are techniques that add penalty term to the loss function of the neural network. This penalty term lowers the nodes' coefficient (similar to dropout) and helps prevent overfitting. L1 regularization is known as 'Lasso Regression', where its penalty term is an absolute value of magnitude. While L2 regularization is known as 'Ridge Regression', where its penalty term is a squared magnitude. Both L1 and L2 regularizations will be used in this model."
      ]
    },
    {
      "cell_type": "code",
      "execution_count": 30,
      "id": "jHCRUxoe4PnR",
      "metadata": {
        "id": "jHCRUxoe4PnR"
      },
      "outputs": [],
      "source": [
        "# Create empty network\n",
        "l1l2_model = models.Sequential(name=\"L1/L2\")\n",
        "\n",
        "# Add layers\n",
        "l1l2_model.add(layers.Dense(512, activation ='relu', input_shape=(28*28,)))\n",
        "l1l2_model.add(layers.Dense(124, kernel_regularizer=regularizers.l1(0.01), input_shape=(10000,), activation='relu'))\n",
        "l1l2_model.add(layers.Dense(46, kernel_regularizer=regularizers.l2(0.01), activation='relu'))\n",
        "l1l2_model.add(layers.Dense(10, activation='softmax'))"
      ]
    },
    {
      "cell_type": "code",
      "execution_count": 31,
      "id": "aeUIZmtMS2Jn",
      "metadata": {
        "id": "aeUIZmtMS2Jn"
      },
      "outputs": [],
      "source": [
        "# Compile network & assign optimizer, loss and metrics\n",
        "l1l2_model.compile(optimizer='adam', loss='categorical_crossentropy', metrics=['accuracy'])"
      ]
    },
    {
      "cell_type": "code",
      "execution_count": 32,
      "id": "38wEWstsTBzR",
      "metadata": {
        "id": "38wEWstsTBzR"
      },
      "outputs": [],
      "source": [
        "# Fit training data to the network\n",
        "l1l2_result = l1l2_model.fit(X_train, y_train, epochs=40, batch_size=128, validation_data=(X_test, y_test), verbose=0)"
      ]
    },
    {
      "cell_type": "code",
      "execution_count": 33,
      "id": "wANTsKglTJv0",
      "metadata": {
        "colab": {
          "base_uri": "https://localhost:8080/"
        },
        "id": "wANTsKglTJv0",
        "outputId": "efa6affc-78a8-4286-b21b-41818319f5a1"
      },
      "outputs": [
        {
          "output_type": "stream",
          "name": "stdout",
          "text": [
            "Model: \"L1/L2\"\n",
            "_________________________________________________________________\n",
            " Layer (type)                Output Shape              Param #   \n",
            "=================================================================\n",
            " dense_9 (Dense)             (None, 512)               401920    \n",
            "                                                                 \n",
            " dense_10 (Dense)            (None, 124)               63612     \n",
            "                                                                 \n",
            " dense_11 (Dense)            (None, 46)                5750      \n",
            "                                                                 \n",
            " dense_12 (Dense)            (None, 10)                470       \n",
            "                                                                 \n",
            "=================================================================\n",
            "Total params: 471752 (1.80 MB)\n",
            "Trainable params: 471752 (1.80 MB)\n",
            "Non-trainable params: 0 (0.00 Byte)\n",
            "_________________________________________________________________\n"
          ]
        }
      ],
      "source": [
        "l1l2_model.summary()"
      ]
    },
    {
      "cell_type": "code",
      "source": [
        "# Plot training & validation accuracy of model\n",
        "accuracy_plot(l1l2_result.history['accuracy'], l1l2_result.history['val_accuracy'])\n",
        "\n",
        "# Plot training & validation loss of model\n",
        "loss_plot(l1l2_result.history['loss'], l1l2_result.history['val_loss'])"
      ],
      "metadata": {
        "colab": {
          "base_uri": "https://localhost:8080/",
          "height": 927
        },
        "id": "ixoaJPVD-HuO",
        "outputId": "913507c2-5831-4b23-c456-08a12215df5e"
      },
      "id": "ixoaJPVD-HuO",
      "execution_count": 34,
      "outputs": [
        {
          "output_type": "display_data",
          "data": {
            "text/plain": [
              "<Figure size 640x480 with 1 Axes>"
            ],
            "image/png": "[encoded data removed]"
          },
          "metadata": {}
        },
        {
          "output_type": "display_data",
          "data": {
            "text/plain": [
              "<Figure size 640x480 with 1 Axes>"
            ],
            "image/png": "[encoded data removed]"
          },
          "metadata": {}
        }
      ]
    },
    {
      "cell_type": "code",
      "source": [
        "# Evaluate the model's loss & accuracy\n",
        "test_loss, test_acc = l1l2_model.evaluate(X_val, y_val)"
      ],
      "metadata": {
        "colab": {
          "base_uri": "https://localhost:8080/"
        },
        "id": "6YdTsn_Z-PaL",
        "outputId": "941faac8-02a6-48aa-d350-5ddd5bb0023d"
      },
      "id": "6YdTsn_Z-PaL",
      "execution_count": 35,
      "outputs": [
        {
          "output_type": "stream",
          "name": "stdout",
          "text": [
            "438/438 [==============================] - 2s 4ms/step - loss: 0.4734 - accuracy: 0.9201\n"
          ]
        }
      ]
    },
    {
      "cell_type": "markdown",
      "source": [
        "Training & validation loss plot shows little disparity between both types of loss. However, the training & validation accuracy plot shows a significant difference between them. This model performs poorer with unseen data for both accuracy and loss, and the result shows about **90% accuracy** and about a **45% loss**. This result shows poorer performance as compared to the dropout model and even the overfitted model."
      ],
      "metadata": {
        "id": "ksvF8cXHBGwq"
      },
      "id": "ksvF8cXHBGwq"
    },
    {
      "cell_type": "markdown",
      "id": "tyZmjPX_T_Zs",
      "metadata": {
        "id": "tyZmjPX_T_Zs"
      },
      "source": [
        "### **Combined Regularization Model**\n",
        "\n",
        "As each of the regularization methods have its own strengths, a model that uses both dropout and L1/L2 regularization can perform better than either of the methods."
      ]
    },
    {
      "cell_type": "code",
      "execution_count": 36,
      "id": "lboAsMWIUNKU",
      "metadata": {
        "id": "lboAsMWIUNKU"
      },
      "outputs": [],
      "source": [
        "# Create empty network\n",
        "dropout_l1l2_model = models.Sequential(name=\"DropOut-L1/L2\")\n",
        "\n",
        "# Add layers\n",
        "dropout_l1l2_model.add(layers.Dense(512, activation='relu', input_shape=(28*28,)))\n",
        "dropout_l1l2_model.add(layers.Dropout(0.7))\n",
        "dropout_l1l2_model.add(layers.Dense(124, kernel_regularizer=regularizers.l1(0.001), input_shape=(10000,), activation = 'relu'))\n",
        "dropout_l1l2_model.add(layers.Dense(46, activation='relu'))\n",
        "dropout_l1l2_model.add(layers.Dense(10, activation='softmax'))"
      ]
    },
    {
      "cell_type": "code",
      "execution_count": 37,
      "id": "L-znYvseUvfT",
      "metadata": {
        "id": "L-znYvseUvfT"
      },
      "outputs": [],
      "source": [
        "# Compile network & assign optimizer, loss and metrics\n",
        "dropout_l1l2_model.compile(optimizer='adam', loss='categorical_crossentropy', metrics=['accuracy'])"
      ]
    },
    {
      "cell_type": "code",
      "execution_count": 38,
      "id": "Wk2Y2ovUU2M9",
      "metadata": {
        "id": "Wk2Y2ovUU2M9"
      },
      "outputs": [],
      "source": [
        "# Fit training data to the network\n",
        "dropout_l1l2_result = dropout_l1l2_model.fit(X_train, y_train, epochs=40, batch_size=128, validation_data=(X_test, y_test), verbose=0)"
      ]
    },
    {
      "cell_type": "code",
      "source": [
        "dropout_l1l2_model.summary()"
      ],
      "metadata": {
        "colab": {
          "base_uri": "https://localhost:8080/"
        },
        "id": "kigbnlblEnb_",
        "outputId": "c3eaf799-6ea2-465a-8865-4491d529f1b0"
      },
      "id": "kigbnlblEnb_",
      "execution_count": 39,
      "outputs": [
        {
          "output_type": "stream",
          "name": "stdout",
          "text": [
            "Model: \"DropOut-L1/L2\"\n",
            "_________________________________________________________________\n",
            " Layer (type)                Output Shape              Param #   \n",
            "=================================================================\n",
            " dense_13 (Dense)            (None, 512)               401920    \n",
            "                                                                 \n",
            " dropout_2 (Dropout)         (None, 512)               0         \n",
            "                                                                 \n",
            " dense_14 (Dense)            (None, 124)               63612     \n",
            "                                                                 \n",
            " dense_15 (Dense)            (None, 46)                5750      \n",
            "                                                                 \n",
            " dense_16 (Dense)            (None, 10)                470       \n",
            "                                                                 \n",
            "=================================================================\n",
            "Total params: 471752 (1.80 MB)\n",
            "Trainable params: 471752 (1.80 MB)\n",
            "Non-trainable params: 0 (0.00 Byte)\n",
            "_________________________________________________________________\n"
          ]
        }
      ]
    },
    {
      "cell_type": "code",
      "source": [
        "# Plot training & validation accuracy of model\n",
        "accuracy_plot(dropout_l1l2_result.history['accuracy'], dropout_l1l2_result.history['val_accuracy'])\n",
        "\n",
        "# Plot training & validation loss of model\n",
        "loss_plot(dropout_l1l2_result.history['loss'], dropout_l1l2_result.history['val_loss'])"
      ],
      "metadata": {
        "colab": {
          "base_uri": "https://localhost:8080/",
          "height": 927
        },
        "id": "GUF8I12tEJwZ",
        "outputId": "80cfc947-81ca-4a6d-caeb-8e3107aac220"
      },
      "id": "GUF8I12tEJwZ",
      "execution_count": 40,
      "outputs": [
        {
          "output_type": "display_data",
          "data": {
            "text/plain": [
              "<Figure size 640x480 with 1 Axes>"
            ],
            "image/png": "[encoded data removed]"
          },
          "metadata": {}
        },
        {
          "output_type": "display_data",
          "data": {
            "text/plain": [
              "<Figure size 640x480 with 1 Axes>"
            ],
            "image/png": "[encoded data removed]"
          },
          "metadata": {}
        }
      ]
    },
    {
      "cell_type": "code",
      "source": [
        "# Evaluate the model's loss & accuracy\n",
        "test_loss, test_acc = dropout_l1l2_model.evaluate(X_val, y_val)"
      ],
      "metadata": {
        "colab": {
          "base_uri": "https://localhost:8080/"
        },
        "id": "UbASK9ObF9B9",
        "outputId": "a1d85759-3643-40ce-a6c9-a26abf1dead7"
      },
      "id": "UbASK9ObF9B9",
      "execution_count": 41,
      "outputs": [
        {
          "output_type": "stream",
          "name": "stdout",
          "text": [
            "438/438 [==============================] - 1s 3ms/step - loss: 0.3239 - accuracy: 0.9467\n"
          ]
        }
      ]
    },
    {
      "cell_type": "markdown",
      "id": "sxiRu7N7VKOk",
      "metadata": {
        "id": "sxiRu7N7VKOk"
      },
      "source": [
        "Looking at the plots above, this model has a good fit and the model does better with validation data as compared to the training data. This model has a result of about **95% accuracy** with **30% loss**. While this result is slightly worse than the model just using dropout regularization, the closer graphs for both training and validation data shows a better fit and would produce a more consistent result."
      ]
    },
    {
      "cell_type": "markdown",
      "id": "0HHPLX-iVgyB",
      "metadata": {
        "id": "0HHPLX-iVgyB"
      },
      "source": [
        "## **Finalized Model**\n",
        "\n",
        "Having developed a model appropriate for use with good fit (combined regularized model), training can be conducted on the entire dataset instead of the split dataset."
      ]
    },
    {
      "cell_type": "code",
      "execution_count": 42,
      "id": "omTay9QnWjZu",
      "metadata": {
        "id": "omTay9QnWjZu"
      },
      "outputs": [],
      "source": [
        "# Create empty network\n",
        "final_model = models.Sequential(name=\"Final\")\n",
        "\n",
        "# Add layers\n",
        "final_model.add(layers.Dense(512, activation='relu', input_shape=(28*28,)))\n",
        "final_model.add(layers.Dropout(0.7))\n",
        "final_model.add(layers.Dense(124, kernel_regularizer=regularizers.l1(0.001), input_shape=(10000,), activation='relu'))\n",
        "final_model.add(layers.Dense(46, activation='relu'))\n",
        "final_model.add(layers.Dense(10, activation='softmax'))"
      ]
    },
    {
      "cell_type": "code",
      "execution_count": 43,
      "id": "cWXERE17XIIU",
      "metadata": {
        "id": "cWXERE17XIIU"
      },
      "outputs": [],
      "source": [
        "# Compile network & assign optimizer, loss and metrics\n",
        "final_model.compile(optimizer='adam', loss='categorical_crossentropy', metrics=['accuracy'])"
      ]
    },
    {
      "cell_type": "code",
      "source": [
        "final_model.summary()"
      ],
      "metadata": {
        "colab": {
          "base_uri": "https://localhost:8080/"
        },
        "id": "hyevQ44BghUZ",
        "outputId": "2536e995-a1ac-446a-ec7c-067abee75603"
      },
      "id": "hyevQ44BghUZ",
      "execution_count": 44,
      "outputs": [
        {
          "output_type": "stream",
          "name": "stdout",
          "text": [
            "Model: \"Final\"\n",
            "_________________________________________________________________\n",
            " Layer (type)                Output Shape              Param #   \n",
            "=================================================================\n",
            " dense_17 (Dense)            (None, 512)               401920    \n",
            "                                                                 \n",
            " dropout_3 (Dropout)         (None, 512)               0         \n",
            "                                                                 \n",
            " dense_18 (Dense)            (None, 124)               63612     \n",
            "                                                                 \n",
            " dense_19 (Dense)            (None, 46)                5750      \n",
            "                                                                 \n",
            " dense_20 (Dense)            (None, 10)                470       \n",
            "                                                                 \n",
            "=================================================================\n",
            "Total params: 471752 (1.80 MB)\n",
            "Trainable params: 471752 (1.80 MB)\n",
            "Non-trainable params: 0 (0.00 Byte)\n",
            "_________________________________________________________________\n"
          ]
        }
      ]
    },
    {
      "cell_type": "code",
      "execution_count": 45,
      "id": "lgx09dugXL1W",
      "metadata": {
        "colab": {
          "base_uri": "https://localhost:8080/"
        },
        "id": "lgx09dugXL1W",
        "outputId": "58f758dd-dfe4-41d7-f23e-e315e588e23b"
      },
      "outputs": [
        {
          "output_type": "stream",
          "name": "stdout",
          "text": [
            "1750/1750 [==============================] - 15s 8ms/step - loss: 1.3537 - accuracy: 0.7773\n"
          ]
        }
      ],
      "source": [
        "# Concatenate training and validation datasets\n",
        "final_fit = final_model.fit(np.concatenate([X_train, X_val]), np.concatenate([y_train, y_val]))"
      ]
    },
    {
      "cell_type": "code",
      "source": [
        "test_loss, test_acc = final_model.evaluate(X_test, y_test)"
      ],
      "metadata": {
        "colab": {
          "base_uri": "https://localhost:8080/"
        },
        "id": "gqZu53wwRp6m",
        "outputId": "f7261599-11ea-4a6d-cd9c-d2a4b5fb6258"
      },
      "id": "gqZu53wwRp6m",
      "execution_count": 46,
      "outputs": [
        {
          "output_type": "stream",
          "name": "stdout",
          "text": [
            "438/438 [==============================] - 1s 3ms/step - loss: 0.6802 - accuracy: 0.8872\n"
          ]
        }
      ]
    },
    {
      "cell_type": "code",
      "source": [
        "y_pred = final_model.predict(X_test)\n",
        "Y_test = np.argmax(y_test, axis = 1)\n",
        "Y_pred = np.argmax(y_pred, axis = 1)\n",
        "\n",
        "# Statistical Metrics\n",
        "precision_stat = precision_score(Y_test, Y_pred, average='micro')\n",
        "recall_stat = recall_score(Y_test, Y_pred, average='micro')\n",
        "f1_stat = f1_score(Y_test, Y_pred, average='micro')\n",
        "ck_stat = cohen_kappa_score(Y_test, Y_pred)\n",
        "\n",
        "# Print Statistical Scores\n",
        "print(\"Precision: \", precision_stat)\n",
        "print(\"Recall: \", recall_stat)\n",
        "print(\"F1-score: \", f1_stat)\n",
        "print(\"Cohen Kappa Score: \", ck_stat)"
      ],
      "metadata": {
        "colab": {
          "base_uri": "https://localhost:8080/"
        },
        "id": "tt2G0JsISJrI",
        "outputId": "f34bbb26-2af7-4578-b85a-ed18e9cf3c07"
      },
      "id": "tt2G0JsISJrI",
      "execution_count": 49,
      "outputs": [
        {
          "output_type": "stream",
          "name": "stdout",
          "text": [
            "438/438 [==============================] - 2s 4ms/step\n",
            "Precision:  0.8872142857142857\n",
            "Recall:  0.8872142857142857\n",
            "F1-score:  0.8872142857142857\n",
            "Cohen Kappa Score:  0.8746750578403295\n"
          ]
        }
      ]
    },
    {
      "cell_type": "markdown",
      "id": "rJoJjBd39qU6",
      "metadata": {
        "id": "rJoJjBd39qU6"
      },
      "source": [
        "The final model has a result of about **88% accuracy** with **68% loss**. While this result shows good accuracy but also high loss, this is expected as the nature of the data is difficult to classify properly. However, looking at the statistical metrics calculated above, the finalized model performs well with a precision of 88%, recall of 88%, an f1-score of 88%, and cohen's kappa score of 87%.\n",
        "\n"
      ]
    },
    {
      "cell_type": "markdown",
      "source": [
        "## **Results and Evaluation**\n",
        "\n",
        "To summarize the findings when developing the appropriate model, I have collated them below. It is important to note that solely using accuracy and loss as the primary metric can miss out on key details such as underfitting or overfitting of the model. The 'combined regularized model' performed the best without underfitting or overfitting.\n",
        ">\n",
        "1. Underfitted Model\n",
        "  - Accuracy: 80%\n",
        "  - Loss: 65%\n",
        "2. Overfitted Model\n",
        "  - Accuracy: 95%\n",
        "  - Loss: 30-35%\n",
        "3. Dropout Regularized Model\n",
        "  - Accuracy: 95%\n",
        "  - Loss: 20%\n",
        "4. L1/L2 Regularized Model\n",
        "  - Accuracy: 90%\n",
        "  - Loss: 45%\n",
        "5. Combined Regularized Model\n",
        "  - Accuracy: 95%\n",
        "  - Loss: 30%\n",
        "6. Final Model\n",
        "  - Accuracy: 88%\n",
        "  - Loss: 68%"
      ],
      "metadata": {
        "id": "g5tCFSixSAXJ"
      },
      "id": "g5tCFSixSAXJ"
    },
    {
      "cell_type": "markdown",
      "source": [
        "Finalized model is based on the 'combined regularized model' with the result of around 88% accuracy, f1-score, and cohen kappa's score. All these metrics have exceeded the goal stated above of having at least 80%. This means that the classification deep learning model developed for the KMNIST dataset meets the goals and does well in classifying the images.\n",
        "\n",
        "It is also important to state that the loss for this model is high, and the development method for the final model may not be optimal. The high loss value could be caused by many different factors and is difficult to evaluate on its own. Further development along with use of other methods and models can bring a more comprehensive evaluation to this project."
      ],
      "metadata": {
        "id": "isJzYJoibice"
      },
      "id": "isJzYJoibice"
    },
    {
      "cell_type": "markdown",
      "id": "2JArY2oZwhc3",
      "metadata": {
        "id": "2JArY2oZwhc3"
      },
      "source": [
        "## **Conclusion**"
      ]
    },
    {
      "cell_type": "markdown",
      "id": "FfSTSzFFwkE7",
      "metadata": {
        "id": "FfSTSzFFwkE7"
      },
      "source": [
        "I have developed a model that performs well with the KMNIST dataset by utilizing the hold-out validation method. The model uses the overfitted model as the base before regularizing it with both dropout and L1 and L2 regularization. As mentioned in the results and evaluation section, the final model meets the goals and produces accurate results in classifying the KMNIST images correctly.\n",
        "\n",
        "While the results of the final model shows it performing well with the KMNIST dataset, other methods and techniques can be employed and may perform better. Further developments and testing with other techniques such as cross-validation or k-folds iteration could produce better results than the hold-out validation method. The use of other techniques in during the regularization of the models could also produce better results."
      ]
    },
    {
      "cell_type": "markdown",
      "id": "hE0IAhtmwkvw",
      "metadata": {
        "id": "hE0IAhtmwkvw"
      },
      "source": [
        "## **References**\n",
        "\n",
        "[1] TensorFlow datasets catalog: kmnist, https://www.tensorflow.org/datasets/catalog/kmnist [Last accessed: 06/03/2024]"
      ]
    }
  ],
  "metadata": {
    "colab": {
      "provenance": [],
      "toc_visible": true
    },
    "kernelspec": {
      "display_name": "Python 3 (ipykernel)",
      "language": "python",
      "name": "python3"
    },
    "language_info": {
      "codemirror_mode": {
        "name": "ipython",
        "version": 3
      },
      "file_extension": ".py",
      "mimetype": "text/x-python",
      "name": "python",
      "nbconvert_exporter": "python",
      "pygments_lexer": "ipython3",
      "version": "3.9.13"
    },
    "widgets": {
      "application/vnd.jupyter.widget-state+json": {
        "8e001019a1b943fb9ea64d0bf04294e5": {
          "model_module": "@jupyter-widgets/controls",
          "model_name": "HBoxModel",
          "model_module_version": "1.5.0",
          "state": {
            "_dom_classes": [],
            "_model_module": "@jupyter-widgets/controls",
            "_model_module_version": "1.5.0",
            "_model_name": "HBoxModel",
            "_view_count": null,
            "_view_module": "@jupyter-widgets/controls",
            "_view_module_version": "1.5.0",
            "_view_name": "HBoxView",
            "box_style": "",
            "children": [
              "IPY_MODEL_e3b01b26907f453a908f314b3421f5b0",
              "IPY_MODEL_7f7c750576ca43b98bdc7c5e483b3bca",
              "IPY_MODEL_673f154f47b94dca9ccab542f2fd5c45"
            ],
            "layout": "IPY_MODEL_bb299aed0ea245168cbab56f294b7b86"
          }
        },
        "e3b01b26907f453a908f314b3421f5b0": {
          "model_module": "@jupyter-widgets/controls",
          "model_name": "HTMLModel",
          "model_module_version": "1.5.0",
          "state": {
            "_dom_classes": [],
            "_model_module": "@jupyter-widgets/controls",
            "_model_module_version": "1.5.0",
            "_model_name": "HTMLModel",
            "_view_count": null,
            "_view_module": "@jupyter-widgets/controls",
            "_view_module_version": "1.5.0",
            "_view_name": "HTMLView",
            "description": "",
            "description_tooltip": null,
            "layout": "IPY_MODEL_901b0eb3e0d8446bb45b60b0e115fa8f",
            "placeholder": "​",
            "style": "IPY_MODEL_243c1777094f486cbb958354a4fec027",
            "value": "Dl Completed...: 100%"
          }
        },
        "7f7c750576ca43b98bdc7c5e483b3bca": {
          "model_module": "@jupyter-widgets/controls",
          "model_name": "FloatProgressModel",
          "model_module_version": "1.5.0",
          "state": {
            "_dom_classes": [],
            "_model_module": "@jupyter-widgets/controls",
            "_model_module_version": "1.5.0",
            "_model_name": "FloatProgressModel",
            "_view_count": null,
            "_view_module": "@jupyter-widgets/controls",
            "_view_module_version": "1.5.0",
            "_view_name": "ProgressView",
            "bar_style": "success",
            "description": "",
            "description_tooltip": null,
            "layout": "IPY_MODEL_2e4b7810a67e4feca535d3d6003c6b66",
            "max": 1,
            "min": 0,
            "orientation": "horizontal",
            "style": "IPY_MODEL_f5ceb9732bf8460c96fccf9202706a34",
            "value": 1
          }
        },
        "673f154f47b94dca9ccab542f2fd5c45": {
          "model_module": "@jupyter-widgets/controls",
          "model_name": "HTMLModel",
          "model_module_version": "1.5.0",
          "state": {
            "_dom_classes": [],
            "_model_module": "@jupyter-widgets/controls",
            "_model_module_version": "1.5.0",
            "_model_name": "HTMLModel",
            "_view_count": null,
            "_view_module": "@jupyter-widgets/controls",
            "_view_module_version": "1.5.0",
            "_view_name": "HTMLView",
            "description": "",
            "description_tooltip": null,
            "layout": "IPY_MODEL_1eed936af9734c8bade98eff5a2a7b18",
            "placeholder": "​",
            "style": "IPY_MODEL_e8eb36f28f8845879c959aad98a37852",
            "value": " 4/4 [00:12&lt;00:00,  1.26 url/s]"
          }
        },
        "bb299aed0ea245168cbab56f294b7b86": {
          "model_module": "@jupyter-widgets/base",
          "model_name": "LayoutModel",
          "model_module_version": "1.2.0",
          "state": {
            "_model_module": "@jupyter-widgets/base",
            "_model_module_version": "1.2.0",
            "_model_name": "LayoutModel",
            "_view_count": null,
            "_view_module": "@jupyter-widgets/base",
            "_view_module_version": "1.2.0",
            "_view_name": "LayoutView",
            "align_content": null,
            "align_items": null,
            "align_self": null,
            "border": null,
            "bottom": null,
            "display": null,
            "flex": null,
            "flex_flow": null,
            "grid_area": null,
            "grid_auto_columns": null,
            "grid_auto_flow": null,
            "grid_auto_rows": null,
            "grid_column": null,
            "grid_gap": null,
            "grid_row": null,
            "grid_template_areas": null,
            "grid_template_columns": null,
            "grid_template_rows": null,
            "height": null,
            "justify_content": null,
            "justify_items": null,
            "left": null,
            "margin": null,
            "max_height": null,
            "max_width": null,
            "min_height": null,
            "min_width": null,
            "object_fit": null,
            "object_position": null,
            "order": null,
            "overflow": null,
            "overflow_x": null,
            "overflow_y": null,
            "padding": null,
            "right": null,
            "top": null,
            "visibility": null,
            "width": null
          }
        },
        "901b0eb3e0d8446bb45b60b0e115fa8f": {
          "model_module": "@jupyter-widgets/base",
          "model_name": "LayoutModel",
          "model_module_version": "1.2.0",
          "state": {
            "_model_module": "@jupyter-widgets/base",
            "_model_module_version": "1.2.0",
            "_model_name": "LayoutModel",
            "_view_count": null,
            "_view_module": "@jupyter-widgets/base",
            "_view_module_version": "1.2.0",
            "_view_name": "LayoutView",
            "align_content": null,
            "align_items": null,
            "align_self": null,
            "border": null,
            "bottom": null,
            "display": null,
            "flex": null,
            "flex_flow": null,
            "grid_area": null,
            "grid_auto_columns": null,
            "grid_auto_flow": null,
            "grid_auto_rows": null,
            "grid_column": null,
            "grid_gap": null,
            "grid_row": null,
            "grid_template_areas": null,
            "grid_template_columns": null,
            "grid_template_rows": null,
            "height": null,
            "justify_content": null,
            "justify_items": null,
            "left": null,
            "margin": null,
            "max_height": null,
            "max_width": null,
            "min_height": null,
            "min_width": null,
            "object_fit": null,
            "object_position": null,
            "order": null,
            "overflow": null,
            "overflow_x": null,
            "overflow_y": null,
            "padding": null,
            "right": null,
            "top": null,
            "visibility": null,
            "width": null
          }
        },
        "243c1777094f486cbb958354a4fec027": {
          "model_module": "@jupyter-widgets/controls",
          "model_name": "DescriptionStyleModel",
          "model_module_version": "1.5.0",
          "state": {
            "_model_module": "@jupyter-widgets/controls",
            "_model_module_version": "1.5.0",
            "_model_name": "DescriptionStyleModel",
            "_view_count": null,
            "_view_module": "@jupyter-widgets/base",
            "_view_module_version": "1.2.0",
            "_view_name": "StyleView",
            "description_width": ""
          }
        },
        "2e4b7810a67e4feca535d3d6003c6b66": {
          "model_module": "@jupyter-widgets/base",
          "model_name": "LayoutModel",
          "model_module_version": "1.2.0",
          "state": {
            "_model_module": "@jupyter-widgets/base",
            "_model_module_version": "1.2.0",
            "_model_name": "LayoutModel",
            "_view_count": null,
            "_view_module": "@jupyter-widgets/base",
            "_view_module_version": "1.2.0",
            "_view_name": "LayoutView",
            "align_content": null,
            "align_items": null,
            "align_self": null,
            "border": null,
            "bottom": null,
            "display": null,
            "flex": null,
            "flex_flow": null,
            "grid_area": null,
            "grid_auto_columns": null,
            "grid_auto_flow": null,
            "grid_auto_rows": null,
            "grid_column": null,
            "grid_gap": null,
            "grid_row": null,
            "grid_template_areas": null,
            "grid_template_columns": null,
            "grid_template_rows": null,
            "height": null,
            "justify_content": null,
            "justify_items": null,
            "left": null,
            "margin": null,
            "max_height": null,
            "max_width": null,
            "min_height": null,
            "min_width": null,
            "object_fit": null,
            "object_position": null,
            "order": null,
            "overflow": null,
            "overflow_x": null,
            "overflow_y": null,
            "padding": null,
            "right": null,
            "top": null,
            "visibility": null,
            "width": "20px"
          }
        },
        "f5ceb9732bf8460c96fccf9202706a34": {
          "model_module": "@jupyter-widgets/controls",
          "model_name": "ProgressStyleModel",
          "model_module_version": "1.5.0",
          "state": {
            "_model_module": "@jupyter-widgets/controls",
            "_model_module_version": "1.5.0",
            "_model_name": "ProgressStyleModel",
            "_view_count": null,
            "_view_module": "@jupyter-widgets/base",
            "_view_module_version": "1.2.0",
            "_view_name": "StyleView",
            "bar_color": null,
            "description_width": ""
          }
        },
        "1eed936af9734c8bade98eff5a2a7b18": {
          "model_module": "@jupyter-widgets/base",
          "model_name": "LayoutModel",
          "model_module_version": "1.2.0",
          "state": {
            "_model_module": "@jupyter-widgets/base",
            "_model_module_version": "1.2.0",
            "_model_name": "LayoutModel",
            "_view_count": null,
            "_view_module": "@jupyter-widgets/base",
            "_view_module_version": "1.2.0",
            "_view_name": "LayoutView",
            "align_content": null,
            "align_items": null,
            "align_self": null,
            "border": null,
            "bottom": null,
            "display": null,
            "flex": null,
            "flex_flow": null,
            "grid_area": null,
            "grid_auto_columns": null,
            "grid_auto_flow": null,
            "grid_auto_rows": null,
            "grid_column": null,
            "grid_gap": null,
            "grid_row": null,
            "grid_template_areas": null,
            "grid_template_columns": null,
            "grid_template_rows": null,
            "height": null,
            "justify_content": null,
            "justify_items": null,
            "left": null,
            "margin": null,
            "max_height": null,
            "max_width": null,
            "min_height": null,
            "min_width": null,
            "object_fit": null,
            "object_position": null,
            "order": null,
            "overflow": null,
            "overflow_x": null,
            "overflow_y": null,
            "padding": null,
            "right": null,
            "top": null,
            "visibility": null,
            "width": null
          }
        },
        "e8eb36f28f8845879c959aad98a37852": {
          "model_module": "@jupyter-widgets/controls",
          "model_name": "DescriptionStyleModel",
          "model_module_version": "1.5.0",
          "state": {
            "_model_module": "@jupyter-widgets/controls",
            "_model_module_version": "1.5.0",
            "_model_name": "DescriptionStyleModel",
            "_view_count": null,
            "_view_module": "@jupyter-widgets/base",
            "_view_module_version": "1.2.0",
            "_view_name": "StyleView",
            "description_width": ""
          }
        },
        "09f6bf2a2dae4f42a5dc64d43c2f0b0a": {
          "model_module": "@jupyter-widgets/controls",
          "model_name": "HBoxModel",
          "model_module_version": "1.5.0",
          "state": {
            "_dom_classes": [],
            "_model_module": "@jupyter-widgets/controls",
            "_model_module_version": "1.5.0",
            "_model_name": "HBoxModel",
            "_view_count": null,
            "_view_module": "@jupyter-widgets/controls",
            "_view_module_version": "1.5.0",
            "_view_name": "HBoxView",
            "box_style": "",
            "children": [
              "IPY_MODEL_9989d57c612b4434960f49574daded19",
              "IPY_MODEL_34daafbe90584978811cb6e70728c860",
              "IPY_MODEL_962ed59378ea467a875a1dec801da724"
            ],
            "layout": "IPY_MODEL_be3c360f495a494e8a411399188884f0"
          }
        },
        "9989d57c612b4434960f49574daded19": {
          "model_module": "@jupyter-widgets/controls",
          "model_name": "HTMLModel",
          "model_module_version": "1.5.0",
          "state": {
            "_dom_classes": [],
            "_model_module": "@jupyter-widgets/controls",
            "_model_module_version": "1.5.0",
            "_model_name": "HTMLModel",
            "_view_count": null,
            "_view_module": "@jupyter-widgets/controls",
            "_view_module_version": "1.5.0",
            "_view_name": "HTMLView",
            "description": "",
            "description_tooltip": null,
            "layout": "IPY_MODEL_8da7f3b99b234fd9affb81897b935bca",
            "placeholder": "​",
            "style": "IPY_MODEL_4c44b53577f542dfb4a03cc7c67419d8",
            "value": "Dl Size...: 100%"
          }
        },
        "34daafbe90584978811cb6e70728c860": {
          "model_module": "@jupyter-widgets/controls",
          "model_name": "FloatProgressModel",
          "model_module_version": "1.5.0",
          "state": {
            "_dom_classes": [],
            "_model_module": "@jupyter-widgets/controls",
            "_model_module_version": "1.5.0",
            "_model_name": "FloatProgressModel",
            "_view_count": null,
            "_view_module": "@jupyter-widgets/controls",
            "_view_module_version": "1.5.0",
            "_view_name": "ProgressView",
            "bar_style": "success",
            "description": "",
            "description_tooltip": null,
            "layout": "IPY_MODEL_2f6c44938dd04339ab2fd943506fe3db",
            "max": 1,
            "min": 0,
            "orientation": "horizontal",
            "style": "IPY_MODEL_443ef51bc44f4a7bb11752d671fa8568",
            "value": 1
          }
        },
        "962ed59378ea467a875a1dec801da724": {
          "model_module": "@jupyter-widgets/controls",
          "model_name": "HTMLModel",
          "model_module_version": "1.5.0",
          "state": {
            "_dom_classes": [],
            "_model_module": "@jupyter-widgets/controls",
            "_model_module_version": "1.5.0",
            "_model_name": "HTMLModel",
            "_view_count": null,
            "_view_module": "@jupyter-widgets/controls",
            "_view_module_version": "1.5.0",
            "_view_name": "HTMLView",
            "description": "",
            "description_tooltip": null,
            "layout": "IPY_MODEL_28d86063c98c438ea1608fb96c1a1434",
            "placeholder": "​",
            "style": "IPY_MODEL_e4f3918d76b84b5dbc793d704bbab5eb",
            "value": " 19/19 [00:12&lt;00:00,  1.64 MiB/s]"
          }
        },
        "be3c360f495a494e8a411399188884f0": {
          "model_module": "@jupyter-widgets/base",
          "model_name": "LayoutModel",
          "model_module_version": "1.2.0",
          "state": {
            "_model_module": "@jupyter-widgets/base",
            "_model_module_version": "1.2.0",
            "_model_name": "LayoutModel",
            "_view_count": null,
            "_view_module": "@jupyter-widgets/base",
            "_view_module_version": "1.2.0",
            "_view_name": "LayoutView",
            "align_content": null,
            "align_items": null,
            "align_self": null,
            "border": null,
            "bottom": null,
            "display": null,
            "flex": null,
            "flex_flow": null,
            "grid_area": null,
            "grid_auto_columns": null,
            "grid_auto_flow": null,
            "grid_auto_rows": null,
            "grid_column": null,
            "grid_gap": null,
            "grid_row": null,
            "grid_template_areas": null,
            "grid_template_columns": null,
            "grid_template_rows": null,
            "height": null,
            "justify_content": null,
            "justify_items": null,
            "left": null,
            "margin": null,
            "max_height": null,
            "max_width": null,
            "min_height": null,
            "min_width": null,
            "object_fit": null,
            "object_position": null,
            "order": null,
            "overflow": null,
            "overflow_x": null,
            "overflow_y": null,
            "padding": null,
            "right": null,
            "top": null,
            "visibility": null,
            "width": null
          }
        },
        "8da7f3b99b234fd9affb81897b935bca": {
          "model_module": "@jupyter-widgets/base",
          "model_name": "LayoutModel",
          "model_module_version": "1.2.0",
          "state": {
            "_model_module": "@jupyter-widgets/base",
            "_model_module_version": "1.2.0",
            "_model_name": "LayoutModel",
            "_view_count": null,
            "_view_module": "@jupyter-widgets/base",
            "_view_module_version": "1.2.0",
            "_view_name": "LayoutView",
            "align_content": null,
            "align_items": null,
            "align_self": null,
            "border": null,
            "bottom": null,
            "display": null,
            "flex": null,
            "flex_flow": null,
            "grid_area": null,
            "grid_auto_columns": null,
            "grid_auto_flow": null,
            "grid_auto_rows": null,
            "grid_column": null,
            "grid_gap": null,
            "grid_row": null,
            "grid_template_areas": null,
            "grid_template_columns": null,
            "grid_template_rows": null,
            "height": null,
            "justify_content": null,
            "justify_items": null,
            "left": null,
            "margin": null,
            "max_height": null,
            "max_width": null,
            "min_height": null,
            "min_width": null,
            "object_fit": null,
            "object_position": null,
            "order": null,
            "overflow": null,
            "overflow_x": null,
            "overflow_y": null,
            "padding": null,
            "right": null,
            "top": null,
            "visibility": null,
            "width": null
          }
        },
        "4c44b53577f542dfb4a03cc7c67419d8": {
          "model_module": "@jupyter-widgets/controls",
          "model_name": "DescriptionStyleModel",
          "model_module_version": "1.5.0",
          "state": {
            "_model_module": "@jupyter-widgets/controls",
            "_model_module_version": "1.5.0",
            "_model_name": "DescriptionStyleModel",
            "_view_count": null,
            "_view_module": "@jupyter-widgets/base",
            "_view_module_version": "1.2.0",
            "_view_name": "StyleView",
            "description_width": ""
          }
        },
        "2f6c44938dd04339ab2fd943506fe3db": {
          "model_module": "@jupyter-widgets/base",
          "model_name": "LayoutModel",
          "model_module_version": "1.2.0",
          "state": {
            "_model_module": "@jupyter-widgets/base",
            "_model_module_version": "1.2.0",
            "_model_name": "LayoutModel",
            "_view_count": null,
            "_view_module": "@jupyter-widgets/base",
            "_view_module_version": "1.2.0",
            "_view_name": "LayoutView",
            "align_content": null,
            "align_items": null,
            "align_self": null,
            "border": null,
            "bottom": null,
            "display": null,
            "flex": null,
            "flex_flow": null,
            "grid_area": null,
            "grid_auto_columns": null,
            "grid_auto_flow": null,
            "grid_auto_rows": null,
            "grid_column": null,
            "grid_gap": null,
            "grid_row": null,
            "grid_template_areas": null,
            "grid_template_columns": null,
            "grid_template_rows": null,
            "height": null,
            "justify_content": null,
            "justify_items": null,
            "left": null,
            "margin": null,
            "max_height": null,
            "max_width": null,
            "min_height": null,
            "min_width": null,
            "object_fit": null,
            "object_position": null,
            "order": null,
            "overflow": null,
            "overflow_x": null,
            "overflow_y": null,
            "padding": null,
            "right": null,
            "top": null,
            "visibility": null,
            "width": "20px"
          }
        },
        "443ef51bc44f4a7bb11752d671fa8568": {
          "model_module": "@jupyter-widgets/controls",
          "model_name": "ProgressStyleModel",
          "model_module_version": "1.5.0",
          "state": {
            "_model_module": "@jupyter-widgets/controls",
            "_model_module_version": "1.5.0",
            "_model_name": "ProgressStyleModel",
            "_view_count": null,
            "_view_module": "@jupyter-widgets/base",
            "_view_module_version": "1.2.0",
            "_view_name": "StyleView",
            "bar_color": null,
            "description_width": ""
          }
        },
        "28d86063c98c438ea1608fb96c1a1434": {
          "model_module": "@jupyter-widgets/base",
          "model_name": "LayoutModel",
          "model_module_version": "1.2.0",
          "state": {
            "_model_module": "@jupyter-widgets/base",
            "_model_module_version": "1.2.0",
            "_model_name": "LayoutModel",
            "_view_count": null,
            "_view_module": "@jupyter-widgets/base",
            "_view_module_version": "1.2.0",
            "_view_name": "LayoutView",
            "align_content": null,
            "align_items": null,
            "align_self": null,
            "border": null,
            "bottom": null,
            "display": null,
            "flex": null,
            "flex_flow": null,
            "grid_area": null,
            "grid_auto_columns": null,
            "grid_auto_flow": null,
            "grid_auto_rows": null,
            "grid_column": null,
            "grid_gap": null,
            "grid_row": null,
            "grid_template_areas": null,
            "grid_template_columns": null,
            "grid_template_rows": null,
            "height": null,
            "justify_content": null,
            "justify_items": null,
            "left": null,
            "margin": null,
            "max_height": null,
            "max_width": null,
            "min_height": null,
            "min_width": null,
            "object_fit": null,
            "object_position": null,
            "order": null,
            "overflow": null,
            "overflow_x": null,
            "overflow_y": null,
            "padding": null,
            "right": null,
            "top": null,
            "visibility": null,
            "width": null
          }
        },
        "e4f3918d76b84b5dbc793d704bbab5eb": {
          "model_module": "@jupyter-widgets/controls",
          "model_name": "DescriptionStyleModel",
          "model_module_version": "1.5.0",
          "state": {
            "_model_module": "@jupyter-widgets/controls",
            "_model_module_version": "1.5.0",
            "_model_name": "DescriptionStyleModel",
            "_view_count": null,
            "_view_module": "@jupyter-widgets/base",
            "_view_module_version": "1.2.0",
            "_view_name": "StyleView",
            "description_width": ""
          }
        },
        "ad9e098e8ef2408db525047a103913f1": {
          "model_module": "@jupyter-widgets/controls",
          "model_name": "HBoxModel",
          "model_module_version": "1.5.0",
          "state": {
            "_dom_classes": [],
            "_model_module": "@jupyter-widgets/controls",
            "_model_module_version": "1.5.0",
            "_model_name": "HBoxModel",
            "_view_count": null,
            "_view_module": "@jupyter-widgets/controls",
            "_view_module_version": "1.5.0",
            "_view_name": "HBoxView",
            "box_style": "",
            "children": [
              "IPY_MODEL_d48dfad297ee42dd9b96170b9ef5b594",
              "IPY_MODEL_c562ba4ef0c1444b9128fcbb5c128244",
              "IPY_MODEL_68673b50ec0e484aa165468d88672f0f"
            ],
            "layout": "IPY_MODEL_0f3bdf691b89446d8b31c0b76a7f7509"
          }
        },
        "d48dfad297ee42dd9b96170b9ef5b594": {
          "model_module": "@jupyter-widgets/controls",
          "model_name": "HTMLModel",
          "model_module_version": "1.5.0",
          "state": {
            "_dom_classes": [],
            "_model_module": "@jupyter-widgets/controls",
            "_model_module_version": "1.5.0",
            "_model_name": "HTMLModel",
            "_view_count": null,
            "_view_module": "@jupyter-widgets/controls",
            "_view_module_version": "1.5.0",
            "_view_name": "HTMLView",
            "description": "",
            "description_tooltip": null,
            "layout": "IPY_MODEL_70911174fde44076ad69c15891a4bf30",
            "placeholder": "​",
            "style": "IPY_MODEL_6cb1bf703f8540a7a2fcad39e1051b3a",
            "value": "Extraction completed...: 100%"
          }
        },
        "c562ba4ef0c1444b9128fcbb5c128244": {
          "model_module": "@jupyter-widgets/controls",
          "model_name": "FloatProgressModel",
          "model_module_version": "1.5.0",
          "state": {
            "_dom_classes": [],
            "_model_module": "@jupyter-widgets/controls",
            "_model_module_version": "1.5.0",
            "_model_name": "FloatProgressModel",
            "_view_count": null,
            "_view_module": "@jupyter-widgets/controls",
            "_view_module_version": "1.5.0",
            "_view_name": "ProgressView",
            "bar_style": "success",
            "description": "",
            "description_tooltip": null,
            "layout": "IPY_MODEL_71c0a89840cb413c8c19296508080915",
            "max": 1,
            "min": 0,
            "orientation": "horizontal",
            "style": "IPY_MODEL_698391782f9548439bcd5ced75d97c48",
            "value": 1
          }
        },
        "68673b50ec0e484aa165468d88672f0f": {
          "model_module": "@jupyter-widgets/controls",
          "model_name": "HTMLModel",
          "model_module_version": "1.5.0",
          "state": {
            "_dom_classes": [],
            "_model_module": "@jupyter-widgets/controls",
            "_model_module_version": "1.5.0",
            "_model_name": "HTMLModel",
            "_view_count": null,
            "_view_module": "@jupyter-widgets/controls",
            "_view_module_version": "1.5.0",
            "_view_name": "HTMLView",
            "description": "",
            "description_tooltip": null,
            "layout": "IPY_MODEL_37918e8082474c8abb9591cc0f780344",
            "placeholder": "​",
            "style": "IPY_MODEL_95f750077fd84729998fbd8ce368dfb7",
            "value": " 4/4 [00:12&lt;00:00,  1.25 file/s]"
          }
        },
        "0f3bdf691b89446d8b31c0b76a7f7509": {
          "model_module": "@jupyter-widgets/base",
          "model_name": "LayoutModel",
          "model_module_version": "1.2.0",
          "state": {
            "_model_module": "@jupyter-widgets/base",
            "_model_module_version": "1.2.0",
            "_model_name": "LayoutModel",
            "_view_count": null,
            "_view_module": "@jupyter-widgets/base",
            "_view_module_version": "1.2.0",
            "_view_name": "LayoutView",
            "align_content": null,
            "align_items": null,
            "align_self": null,
            "border": null,
            "bottom": null,
            "display": null,
            "flex": null,
            "flex_flow": null,
            "grid_area": null,
            "grid_auto_columns": null,
            "grid_auto_flow": null,
            "grid_auto_rows": null,
            "grid_column": null,
            "grid_gap": null,
            "grid_row": null,
            "grid_template_areas": null,
            "grid_template_columns": null,
            "grid_template_rows": null,
            "height": null,
            "justify_content": null,
            "justify_items": null,
            "left": null,
            "margin": null,
            "max_height": null,
            "max_width": null,
            "min_height": null,
            "min_width": null,
            "object_fit": null,
            "object_position": null,
            "order": null,
            "overflow": null,
            "overflow_x": null,
            "overflow_y": null,
            "padding": null,
            "right": null,
            "top": null,
            "visibility": null,
            "width": null
          }
        },
        "70911174fde44076ad69c15891a4bf30": {
          "model_module": "@jupyter-widgets/base",
          "model_name": "LayoutModel",
          "model_module_version": "1.2.0",
          "state": {
            "_model_module": "@jupyter-widgets/base",
            "_model_module_version": "1.2.0",
            "_model_name": "LayoutModel",
            "_view_count": null,
            "_view_module": "@jupyter-widgets/base",
            "_view_module_version": "1.2.0",
            "_view_name": "LayoutView",
            "align_content": null,
            "align_items": null,
            "align_self": null,
            "border": null,
            "bottom": null,
            "display": null,
            "flex": null,
            "flex_flow": null,
            "grid_area": null,
            "grid_auto_columns": null,
            "grid_auto_flow": null,
            "grid_auto_rows": null,
            "grid_column": null,
            "grid_gap": null,
            "grid_row": null,
            "grid_template_areas": null,
            "grid_template_columns": null,
            "grid_template_rows": null,
            "height": null,
            "justify_content": null,
            "justify_items": null,
            "left": null,
            "margin": null,
            "max_height": null,
            "max_width": null,
            "min_height": null,
            "min_width": null,
            "object_fit": null,
            "object_position": null,
            "order": null,
            "overflow": null,
            "overflow_x": null,
            "overflow_y": null,
            "padding": null,
            "right": null,
            "top": null,
            "visibility": null,
            "width": null
          }
        },
        "6cb1bf703f8540a7a2fcad39e1051b3a": {
          "model_module": "@jupyter-widgets/controls",
          "model_name": "DescriptionStyleModel",
          "model_module_version": "1.5.0",
          "state": {
            "_model_module": "@jupyter-widgets/controls",
            "_model_module_version": "1.5.0",
            "_model_name": "DescriptionStyleModel",
            "_view_count": null,
            "_view_module": "@jupyter-widgets/base",
            "_view_module_version": "1.2.0",
            "_view_name": "StyleView",
            "description_width": ""
          }
        },
        "71c0a89840cb413c8c19296508080915": {
          "model_module": "@jupyter-widgets/base",
          "model_name": "LayoutModel",
          "model_module_version": "1.2.0",
          "state": {
            "_model_module": "@jupyter-widgets/base",
            "_model_module_version": "1.2.0",
            "_model_name": "LayoutModel",
            "_view_count": null,
            "_view_module": "@jupyter-widgets/base",
            "_view_module_version": "1.2.0",
            "_view_name": "LayoutView",
            "align_content": null,
            "align_items": null,
            "align_self": null,
            "border": null,
            "bottom": null,
            "display": null,
            "flex": null,
            "flex_flow": null,
            "grid_area": null,
            "grid_auto_columns": null,
            "grid_auto_flow": null,
            "grid_auto_rows": null,
            "grid_column": null,
            "grid_gap": null,
            "grid_row": null,
            "grid_template_areas": null,
            "grid_template_columns": null,
            "grid_template_rows": null,
            "height": null,
            "justify_content": null,
            "justify_items": null,
            "left": null,
            "margin": null,
            "max_height": null,
            "max_width": null,
            "min_height": null,
            "min_width": null,
            "object_fit": null,
            "object_position": null,
            "order": null,
            "overflow": null,
            "overflow_x": null,
            "overflow_y": null,
            "padding": null,
            "right": null,
            "top": null,
            "visibility": null,
            "width": "20px"
          }
        },
        "698391782f9548439bcd5ced75d97c48": {
          "model_module": "@jupyter-widgets/controls",
          "model_name": "ProgressStyleModel",
          "model_module_version": "1.5.0",
          "state": {
            "_model_module": "@jupyter-widgets/controls",
            "_model_module_version": "1.5.0",
            "_model_name": "ProgressStyleModel",
            "_view_count": null,
            "_view_module": "@jupyter-widgets/base",
            "_view_module_version": "1.2.0",
            "_view_name": "StyleView",
            "bar_color": null,
            "description_width": ""
          }
        },
        "37918e8082474c8abb9591cc0f780344": {
          "model_module": "@jupyter-widgets/base",
          "model_name": "LayoutModel",
          "model_module_version": "1.2.0",
          "state": {
            "_model_module": "@jupyter-widgets/base",
            "_model_module_version": "1.2.0",
            "_model_name": "LayoutModel",
            "_view_count": null,
            "_view_module": "@jupyter-widgets/base",
            "_view_module_version": "1.2.0",
            "_view_name": "LayoutView",
            "align_content": null,
            "align_items": null,
            "align_self": null,
            "border": null,
            "bottom": null,
            "display": null,
            "flex": null,
            "flex_flow": null,
            "grid_area": null,
            "grid_auto_columns": null,
            "grid_auto_flow": null,
            "grid_auto_rows": null,
            "grid_column": null,
            "grid_gap": null,
            "grid_row": null,
            "grid_template_areas": null,
            "grid_template_columns": null,
            "grid_template_rows": null,
            "height": null,
            "justify_content": null,
            "justify_items": null,
            "left": null,
            "margin": null,
            "max_height": null,
            "max_width": null,
            "min_height": null,
            "min_width": null,
            "object_fit": null,
            "object_position": null,
            "order": null,
            "overflow": null,
            "overflow_x": null,
            "overflow_y": null,
            "padding": null,
            "right": null,
            "top": null,
            "visibility": null,
            "width": null
          }
        },
        "95f750077fd84729998fbd8ce368dfb7": {
          "model_module": "@jupyter-widgets/controls",
          "model_name": "DescriptionStyleModel",
          "model_module_version": "1.5.0",
          "state": {
            "_model_module": "@jupyter-widgets/controls",
            "_model_module_version": "1.5.0",
            "_model_name": "DescriptionStyleModel",
            "_view_count": null,
            "_view_module": "@jupyter-widgets/base",
            "_view_module_version": "1.2.0",
            "_view_name": "StyleView",
            "description_width": ""
          }
        },
        "dee37368b5a044289f5a385d31196a22": {
          "model_module": "@jupyter-widgets/controls",
          "model_name": "HBoxModel",
          "model_module_version": "1.5.0",
          "state": {
            "_dom_classes": [],
            "_model_module": "@jupyter-widgets/controls",
            "_model_module_version": "1.5.0",
            "_model_name": "HBoxModel",
            "_view_count": null,
            "_view_module": "@jupyter-widgets/controls",
            "_view_module_version": "1.5.0",
            "_view_name": "HBoxView",
            "box_style": "",
            "children": [
              "IPY_MODEL_cdab2bb9afbe419bbd523debf81574ed",
              "IPY_MODEL_a578a44ca83f477fba43d8fe9284bbb3",
              "IPY_MODEL_7388f243c5c34f9aa69c080e62d2174e"
            ],
            "layout": "IPY_MODEL_0f362884fcb74bcc9755904e0ea01f69"
          }
        },
        "cdab2bb9afbe419bbd523debf81574ed": {
          "model_module": "@jupyter-widgets/controls",
          "model_name": "HTMLModel",
          "model_module_version": "1.5.0",
          "state": {
            "_dom_classes": [],
            "_model_module": "@jupyter-widgets/controls",
            "_model_module_version": "1.5.0",
            "_model_name": "HTMLModel",
            "_view_count": null,
            "_view_module": "@jupyter-widgets/controls",
            "_view_module_version": "1.5.0",
            "_view_name": "HTMLView",
            "description": "",
            "description_tooltip": null,
            "layout": "IPY_MODEL_2c275864bd8f42d4a980996add89d694",
            "placeholder": "​",
            "style": "IPY_MODEL_8458c72d260a4c5492110513bbd1cca0",
            "value": "Generating splits...: 100%"
          }
        },
        "a578a44ca83f477fba43d8fe9284bbb3": {
          "model_module": "@jupyter-widgets/controls",
          "model_name": "FloatProgressModel",
          "model_module_version": "1.5.0",
          "state": {
            "_dom_classes": [],
            "_model_module": "@jupyter-widgets/controls",
            "_model_module_version": "1.5.0",
            "_model_name": "FloatProgressModel",
            "_view_count": null,
            "_view_module": "@jupyter-widgets/controls",
            "_view_module_version": "1.5.0",
            "_view_name": "ProgressView",
            "bar_style": "",
            "description": "",
            "description_tooltip": null,
            "layout": "IPY_MODEL_531178dc3c58451e80e34afe447d964b",
            "max": 2,
            "min": 0,
            "orientation": "horizontal",
            "style": "IPY_MODEL_03acba0daa37455fa2a3a3ec0c32c53c",
            "value": 2
          }
        },
        "7388f243c5c34f9aa69c080e62d2174e": {
          "model_module": "@jupyter-widgets/controls",
          "model_name": "HTMLModel",
          "model_module_version": "1.5.0",
          "state": {
            "_dom_classes": [],
            "_model_module": "@jupyter-widgets/controls",
            "_model_module_version": "1.5.0",
            "_model_name": "HTMLModel",
            "_view_count": null,
            "_view_module": "@jupyter-widgets/controls",
            "_view_module_version": "1.5.0",
            "_view_name": "HTMLView",
            "description": "",
            "description_tooltip": null,
            "layout": "IPY_MODEL_444198a5d21f4625967483852f34f0e3",
            "placeholder": "​",
            "style": "IPY_MODEL_e37e5a60b36b43f899a5aa4ec7c4a45f",
            "value": " 2/2 [00:30&lt;00:00, 13.70s/ splits]"
          }
        },
        "0f362884fcb74bcc9755904e0ea01f69": {
          "model_module": "@jupyter-widgets/base",
          "model_name": "LayoutModel",
          "model_module_version": "1.2.0",
          "state": {
            "_model_module": "@jupyter-widgets/base",
            "_model_module_version": "1.2.0",
            "_model_name": "LayoutModel",
            "_view_count": null,
            "_view_module": "@jupyter-widgets/base",
            "_view_module_version": "1.2.0",
            "_view_name": "LayoutView",
            "align_content": null,
            "align_items": null,
            "align_self": null,
            "border": null,
            "bottom": null,
            "display": null,
            "flex": null,
            "flex_flow": null,
            "grid_area": null,
            "grid_auto_columns": null,
            "grid_auto_flow": null,
            "grid_auto_rows": null,
            "grid_column": null,
            "grid_gap": null,
            "grid_row": null,
            "grid_template_areas": null,
            "grid_template_columns": null,
            "grid_template_rows": null,
            "height": null,
            "justify_content": null,
            "justify_items": null,
            "left": null,
            "margin": null,
            "max_height": null,
            "max_width": null,
            "min_height": null,
            "min_width": null,
            "object_fit": null,
            "object_position": null,
            "order": null,
            "overflow": null,
            "overflow_x": null,
            "overflow_y": null,
            "padding": null,
            "right": null,
            "top": null,
            "visibility": "hidden",
            "width": null
          }
        },
        "2c275864bd8f42d4a980996add89d694": {
          "model_module": "@jupyter-widgets/base",
          "model_name": "LayoutModel",
          "model_module_version": "1.2.0",
          "state": {
            "_model_module": "@jupyter-widgets/base",
            "_model_module_version": "1.2.0",
            "_model_name": "LayoutModel",
            "_view_count": null,
            "_view_module": "@jupyter-widgets/base",
            "_view_module_version": "1.2.0",
            "_view_name": "LayoutView",
            "align_content": null,
            "align_items": null,
            "align_self": null,
            "border": null,
            "bottom": null,
            "display": null,
            "flex": null,
            "flex_flow": null,
            "grid_area": null,
            "grid_auto_columns": null,
            "grid_auto_flow": null,
            "grid_auto_rows": null,
            "grid_column": null,
            "grid_gap": null,
            "grid_row": null,
            "grid_template_areas": null,
            "grid_template_columns": null,
            "grid_template_rows": null,
            "height": null,
            "justify_content": null,
            "justify_items": null,
            "left": null,
            "margin": null,
            "max_height": null,
            "max_width": null,
            "min_height": null,
            "min_width": null,
            "object_fit": null,
            "object_position": null,
            "order": null,
            "overflow": null,
            "overflow_x": null,
            "overflow_y": null,
            "padding": null,
            "right": null,
            "top": null,
            "visibility": null,
            "width": null
          }
        },
        "8458c72d260a4c5492110513bbd1cca0": {
          "model_module": "@jupyter-widgets/controls",
          "model_name": "DescriptionStyleModel",
          "model_module_version": "1.5.0",
          "state": {
            "_model_module": "@jupyter-widgets/controls",
            "_model_module_version": "1.5.0",
            "_model_name": "DescriptionStyleModel",
            "_view_count": null,
            "_view_module": "@jupyter-widgets/base",
            "_view_module_version": "1.2.0",
            "_view_name": "StyleView",
            "description_width": ""
          }
        },
        "531178dc3c58451e80e34afe447d964b": {
          "model_module": "@jupyter-widgets/base",
          "model_name": "LayoutModel",
          "model_module_version": "1.2.0",
          "state": {
            "_model_module": "@jupyter-widgets/base",
            "_model_module_version": "1.2.0",
            "_model_name": "LayoutModel",
            "_view_count": null,
            "_view_module": "@jupyter-widgets/base",
            "_view_module_version": "1.2.0",
            "_view_name": "LayoutView",
            "align_content": null,
            "align_items": null,
            "align_self": null,
            "border": null,
            "bottom": null,
            "display": null,
            "flex": null,
            "flex_flow": null,
            "grid_area": null,
            "grid_auto_columns": null,
            "grid_auto_flow": null,
            "grid_auto_rows": null,
            "grid_column": null,
            "grid_gap": null,
            "grid_row": null,
            "grid_template_areas": null,
            "grid_template_columns": null,
            "grid_template_rows": null,
            "height": null,
            "justify_content": null,
            "justify_items": null,
            "left": null,
            "margin": null,
            "max_height": null,
            "max_width": null,
            "min_height": null,
            "min_width": null,
            "object_fit": null,
            "object_position": null,
            "order": null,
            "overflow": null,
            "overflow_x": null,
            "overflow_y": null,
            "padding": null,
            "right": null,
            "top": null,
            "visibility": null,
            "width": null
          }
        },
        "03acba0daa37455fa2a3a3ec0c32c53c": {
          "model_module": "@jupyter-widgets/controls",
          "model_name": "ProgressStyleModel",
          "model_module_version": "1.5.0",
          "state": {
            "_model_module": "@jupyter-widgets/controls",
            "_model_module_version": "1.5.0",
            "_model_name": "ProgressStyleModel",
            "_view_count": null,
            "_view_module": "@jupyter-widgets/base",
            "_view_module_version": "1.2.0",
            "_view_name": "StyleView",
            "bar_color": null,
            "description_width": ""
          }
        },
        "444198a5d21f4625967483852f34f0e3": {
          "model_module": "@jupyter-widgets/base",
          "model_name": "LayoutModel",
          "model_module_version": "1.2.0",
          "state": {
            "_model_module": "@jupyter-widgets/base",
            "_model_module_version": "1.2.0",
            "_model_name": "LayoutModel",
            "_view_count": null,
            "_view_module": "@jupyter-widgets/base",
            "_view_module_version": "1.2.0",
            "_view_name": "LayoutView",
            "align_content": null,
            "align_items": null,
            "align_self": null,
            "border": null,
            "bottom": null,
            "display": null,
            "flex": null,
            "flex_flow": null,
            "grid_area": null,
            "grid_auto_columns": null,
            "grid_auto_flow": null,
            "grid_auto_rows": null,
            "grid_column": null,
            "grid_gap": null,
            "grid_row": null,
            "grid_template_areas": null,
            "grid_template_columns": null,
            "grid_template_rows": null,
            "height": null,
            "justify_content": null,
            "justify_items": null,
            "left": null,
            "margin": null,
            "max_height": null,
            "max_width": null,
            "min_height": null,
            "min_width": null,
            "object_fit": null,
            "object_position": null,
            "order": null,
            "overflow": null,
            "overflow_x": null,
            "overflow_y": null,
            "padding": null,
            "right": null,
            "top": null,
            "visibility": null,
            "width": null
          }
        },
        "e37e5a60b36b43f899a5aa4ec7c4a45f": {
          "model_module": "@jupyter-widgets/controls",
          "model_name": "DescriptionStyleModel",
          "model_module_version": "1.5.0",
          "state": {
            "_model_module": "@jupyter-widgets/controls",
            "_model_module_version": "1.5.0",
            "_model_name": "DescriptionStyleModel",
            "_view_count": null,
            "_view_module": "@jupyter-widgets/base",
            "_view_module_version": "1.2.0",
            "_view_name": "StyleView",
            "description_width": ""
          }
        },
        "8c6d51a3863445f49a41276208008c9a": {
          "model_module": "@jupyter-widgets/controls",
          "model_name": "HBoxModel",
          "model_module_version": "1.5.0",
          "state": {
            "_dom_classes": [],
            "_model_module": "@jupyter-widgets/controls",
            "_model_module_version": "1.5.0",
            "_model_name": "HBoxModel",
            "_view_count": null,
            "_view_module": "@jupyter-widgets/controls",
            "_view_module_version": "1.5.0",
            "_view_name": "HBoxView",
            "box_style": "",
            "children": [
              "IPY_MODEL_98ccf1b1e23a44c8b5b72970eeb09beb",
              "IPY_MODEL_1c604431ef144ba6807e564425f18000",
              "IPY_MODEL_3c947bcaf7884eae9e5b3da90145e95a"
            ],
            "layout": "IPY_MODEL_4bc4b5fa451e481790bb9b2f31b9a2b5"
          }
        },
        "98ccf1b1e23a44c8b5b72970eeb09beb": {
          "model_module": "@jupyter-widgets/controls",
          "model_name": "HTMLModel",
          "model_module_version": "1.5.0",
          "state": {
            "_dom_classes": [],
            "_model_module": "@jupyter-widgets/controls",
            "_model_module_version": "1.5.0",
            "_model_name": "HTMLModel",
            "_view_count": null,
            "_view_module": "@jupyter-widgets/controls",
            "_view_module_version": "1.5.0",
            "_view_name": "HTMLView",
            "description": "",
            "description_tooltip": null,
            "layout": "IPY_MODEL_630ae56d82b94a0eb96844cf0b3dfa48",
            "placeholder": "​",
            "style": "IPY_MODEL_793b6aa7bef54d2998c0c485997265ff",
            "value": "Generating train examples...:  97%"
          }
        },
        "1c604431ef144ba6807e564425f18000": {
          "model_module": "@jupyter-widgets/controls",
          "model_name": "FloatProgressModel",
          "model_module_version": "1.5.0",
          "state": {
            "_dom_classes": [],
            "_model_module": "@jupyter-widgets/controls",
            "_model_module_version": "1.5.0",
            "_model_name": "FloatProgressModel",
            "_view_count": null,
            "_view_module": "@jupyter-widgets/controls",
            "_view_module_version": "1.5.0",
            "_view_name": "ProgressView",
            "bar_style": "",
            "description": "",
            "description_tooltip": null,
            "layout": "IPY_MODEL_1a50c75dc796403ead38150437b40d43",
            "max": 60000,
            "min": 0,
            "orientation": "horizontal",
            "style": "IPY_MODEL_12bf8bf5e23a49338500775b07db2d6e",
            "value": 60000
          }
        },
        "3c947bcaf7884eae9e5b3da90145e95a": {
          "model_module": "@jupyter-widgets/controls",
          "model_name": "HTMLModel",
          "model_module_version": "1.5.0",
          "state": {
            "_dom_classes": [],
            "_model_module": "@jupyter-widgets/controls",
            "_model_module_version": "1.5.0",
            "_model_name": "HTMLModel",
            "_view_count": null,
            "_view_module": "@jupyter-widgets/controls",
            "_view_module_version": "1.5.0",
            "_view_name": "HTMLView",
            "description": "",
            "description_tooltip": null,
            "layout": "IPY_MODEL_13ec78859cb64d83bf7ab43dd3886b0e",
            "placeholder": "​",
            "style": "IPY_MODEL_80b041bd51b04b4883b19ecb14e89389",
            "value": " 58287/60000 [00:24&lt;00:00, 2199.37 examples/s]"
          }
        },
        "4bc4b5fa451e481790bb9b2f31b9a2b5": {
          "model_module": "@jupyter-widgets/base",
          "model_name": "LayoutModel",
          "model_module_version": "1.2.0",
          "state": {
            "_model_module": "@jupyter-widgets/base",
            "_model_module_version": "1.2.0",
            "_model_name": "LayoutModel",
            "_view_count": null,
            "_view_module": "@jupyter-widgets/base",
            "_view_module_version": "1.2.0",
            "_view_name": "LayoutView",
            "align_content": null,
            "align_items": null,
            "align_self": null,
            "border": null,
            "bottom": null,
            "display": null,
            "flex": null,
            "flex_flow": null,
            "grid_area": null,
            "grid_auto_columns": null,
            "grid_auto_flow": null,
            "grid_auto_rows": null,
            "grid_column": null,
            "grid_gap": null,
            "grid_row": null,
            "grid_template_areas": null,
            "grid_template_columns": null,
            "grid_template_rows": null,
            "height": null,
            "justify_content": null,
            "justify_items": null,
            "left": null,
            "margin": null,
            "max_height": null,
            "max_width": null,
            "min_height": null,
            "min_width": null,
            "object_fit": null,
            "object_position": null,
            "order": null,
            "overflow": null,
            "overflow_x": null,
            "overflow_y": null,
            "padding": null,
            "right": null,
            "top": null,
            "visibility": "hidden",
            "width": null
          }
        },
        "630ae56d82b94a0eb96844cf0b3dfa48": {
          "model_module": "@jupyter-widgets/base",
          "model_name": "LayoutModel",
          "model_module_version": "1.2.0",
          "state": {
            "_model_module": "@jupyter-widgets/base",
            "_model_module_version": "1.2.0",
            "_model_name": "LayoutModel",
            "_view_count": null,
            "_view_module": "@jupyter-widgets/base",
            "_view_module_version": "1.2.0",
            "_view_name": "LayoutView",
            "align_content": null,
            "align_items": null,
            "align_self": null,
            "border": null,
            "bottom": null,
            "display": null,
            "flex": null,
            "flex_flow": null,
            "grid_area": null,
            "grid_auto_columns": null,
            "grid_auto_flow": null,
            "grid_auto_rows": null,
            "grid_column": null,
            "grid_gap": null,
            "grid_row": null,
            "grid_template_areas": null,
            "grid_template_columns": null,
            "grid_template_rows": null,
            "height": null,
            "justify_content": null,
            "justify_items": null,
            "left": null,
            "margin": null,
            "max_height": null,
            "max_width": null,
            "min_height": null,
            "min_width": null,
            "object_fit": null,
            "object_position": null,
            "order": null,
            "overflow": null,
            "overflow_x": null,
            "overflow_y": null,
            "padding": null,
            "right": null,
            "top": null,
            "visibility": null,
            "width": null
          }
        },
        "793b6aa7bef54d2998c0c485997265ff": {
          "model_module": "@jupyter-widgets/controls",
          "model_name": "DescriptionStyleModel",
          "model_module_version": "1.5.0",
          "state": {
            "_model_module": "@jupyter-widgets/controls",
            "_model_module_version": "1.5.0",
            "_model_name": "DescriptionStyleModel",
            "_view_count": null,
            "_view_module": "@jupyter-widgets/base",
            "_view_module_version": "1.2.0",
            "_view_name": "StyleView",
            "description_width": ""
          }
        },
        "1a50c75dc796403ead38150437b40d43": {
          "model_module": "@jupyter-widgets/base",
          "model_name": "LayoutModel",
          "model_module_version": "1.2.0",
          "state": {
            "_model_module": "@jupyter-widgets/base",
            "_model_module_version": "1.2.0",
            "_model_name": "LayoutModel",
            "_view_count": null,
            "_view_module": "@jupyter-widgets/base",
            "_view_module_version": "1.2.0",
            "_view_name": "LayoutView",
            "align_content": null,
            "align_items": null,
            "align_self": null,
            "border": null,
            "bottom": null,
            "display": null,
            "flex": null,
            "flex_flow": null,
            "grid_area": null,
            "grid_auto_columns": null,
            "grid_auto_flow": null,
            "grid_auto_rows": null,
            "grid_column": null,
            "grid_gap": null,
            "grid_row": null,
            "grid_template_areas": null,
            "grid_template_columns": null,
            "grid_template_rows": null,
            "height": null,
            "justify_content": null,
            "justify_items": null,
            "left": null,
            "margin": null,
            "max_height": null,
            "max_width": null,
            "min_height": null,
            "min_width": null,
            "object_fit": null,
            "object_position": null,
            "order": null,
            "overflow": null,
            "overflow_x": null,
            "overflow_y": null,
            "padding": null,
            "right": null,
            "top": null,
            "visibility": null,
            "width": null
          }
        },
        "12bf8bf5e23a49338500775b07db2d6e": {
          "model_module": "@jupyter-widgets/controls",
          "model_name": "ProgressStyleModel",
          "model_module_version": "1.5.0",
          "state": {
            "_model_module": "@jupyter-widgets/controls",
            "_model_module_version": "1.5.0",
            "_model_name": "ProgressStyleModel",
            "_view_count": null,
            "_view_module": "@jupyter-widgets/base",
            "_view_module_version": "1.2.0",
            "_view_name": "StyleView",
            "bar_color": null,
            "description_width": ""
          }
        },
        "13ec78859cb64d83bf7ab43dd3886b0e": {
          "model_module": "@jupyter-widgets/base",
          "model_name": "LayoutModel",
          "model_module_version": "1.2.0",
          "state": {
            "_model_module": "@jupyter-widgets/base",
            "_model_module_version": "1.2.0",
            "_model_name": "LayoutModel",
            "_view_count": null,
            "_view_module": "@jupyter-widgets/base",
            "_view_module_version": "1.2.0",
            "_view_name": "LayoutView",
            "align_content": null,
            "align_items": null,
            "align_self": null,
            "border": null,
            "bottom": null,
            "display": null,
            "flex": null,
            "flex_flow": null,
            "grid_area": null,
            "grid_auto_columns": null,
            "grid_auto_flow": null,
            "grid_auto_rows": null,
            "grid_column": null,
            "grid_gap": null,
            "grid_row": null,
            "grid_template_areas": null,
            "grid_template_columns": null,
            "grid_template_rows": null,
            "height": null,
            "justify_content": null,
            "justify_items": null,
            "left": null,
            "margin": null,
            "max_height": null,
            "max_width": null,
            "min_height": null,
            "min_width": null,
            "object_fit": null,
            "object_position": null,
            "order": null,
            "overflow": null,
            "overflow_x": null,
            "overflow_y": null,
            "padding": null,
            "right": null,
            "top": null,
            "visibility": null,
            "width": null
          }
        },
        "80b041bd51b04b4883b19ecb14e89389": {
          "model_module": "@jupyter-widgets/controls",
          "model_name": "DescriptionStyleModel",
          "model_module_version": "1.5.0",
          "state": {
            "_model_module": "@jupyter-widgets/controls",
            "_model_module_version": "1.5.0",
            "_model_name": "DescriptionStyleModel",
            "_view_count": null,
            "_view_module": "@jupyter-widgets/base",
            "_view_module_version": "1.2.0",
            "_view_name": "StyleView",
            "description_width": ""
          }
        },
        "4ba24a4f2be3484184a2c2f85834e631": {
          "model_module": "@jupyter-widgets/controls",
          "model_name": "HBoxModel",
          "model_module_version": "1.5.0",
          "state": {
            "_dom_classes": [],
            "_model_module": "@jupyter-widgets/controls",
            "_model_module_version": "1.5.0",
            "_model_name": "HBoxModel",
            "_view_count": null,
            "_view_module": "@jupyter-widgets/controls",
            "_view_module_version": "1.5.0",
            "_view_name": "HBoxView",
            "box_style": "",
            "children": [
              "IPY_MODEL_aeeb5455129c4a73937b34d1408041b9",
              "IPY_MODEL_c423d66357454524b9bf7bfb243ffe4b",
              "IPY_MODEL_b49a6d3f9b4245a69b0533eb30d4b77d"
            ],
            "layout": "IPY_MODEL_bf7ebc2f32b84136adb96117da8ff58c"
          }
        },
        "aeeb5455129c4a73937b34d1408041b9": {
          "model_module": "@jupyter-widgets/controls",
          "model_name": "HTMLModel",
          "model_module_version": "1.5.0",
          "state": {
            "_dom_classes": [],
            "_model_module": "@jupyter-widgets/controls",
            "_model_module_version": "1.5.0",
            "_model_name": "HTMLModel",
            "_view_count": null,
            "_view_module": "@jupyter-widgets/controls",
            "_view_module_version": "1.5.0",
            "_view_name": "HTMLView",
            "description": "",
            "description_tooltip": null,
            "layout": "IPY_MODEL_5f72d2ab3fef468db4b00ea506e05764",
            "placeholder": "​",
            "style": "IPY_MODEL_cf8cc7d3def14569b7a2a7ca7d19cf18",
            "value": "Shuffling /root/tensorflow_datasets/kmnist/3.0.1.incompleteOKFN91/kmnist-train.tfrecord*...:  52%"
          }
        },
        "c423d66357454524b9bf7bfb243ffe4b": {
          "model_module": "@jupyter-widgets/controls",
          "model_name": "FloatProgressModel",
          "model_module_version": "1.5.0",
          "state": {
            "_dom_classes": [],
            "_model_module": "@jupyter-widgets/controls",
            "_model_module_version": "1.5.0",
            "_model_name": "FloatProgressModel",
            "_view_count": null,
            "_view_module": "@jupyter-widgets/controls",
            "_view_module_version": "1.5.0",
            "_view_name": "ProgressView",
            "bar_style": "",
            "description": "",
            "description_tooltip": null,
            "layout": "IPY_MODEL_7bd38521a871422d8215a83d6ce9c792",
            "max": 60000,
            "min": 0,
            "orientation": "horizontal",
            "style": "IPY_MODEL_56a9bb21bf99435b8dc5969720b0ccea",
            "value": 60000
          }
        },
        "b49a6d3f9b4245a69b0533eb30d4b77d": {
          "model_module": "@jupyter-widgets/controls",
          "model_name": "HTMLModel",
          "model_module_version": "1.5.0",
          "state": {
            "_dom_classes": [],
            "_model_module": "@jupyter-widgets/controls",
            "_model_module_version": "1.5.0",
            "_model_name": "HTMLModel",
            "_view_count": null,
            "_view_module": "@jupyter-widgets/controls",
            "_view_module_version": "1.5.0",
            "_view_name": "HTMLView",
            "description": "",
            "description_tooltip": null,
            "layout": "IPY_MODEL_76f15d2aa95844f5a8e9898c6cf050ba",
            "placeholder": "​",
            "style": "IPY_MODEL_40776680dd2c45b390819125cdba115e",
            "value": " 30996/60000 [00:00&lt;00:00, 177955.42 examples/s]"
          }
        },
        "bf7ebc2f32b84136adb96117da8ff58c": {
          "model_module": "@jupyter-widgets/base",
          "model_name": "LayoutModel",
          "model_module_version": "1.2.0",
          "state": {
            "_model_module": "@jupyter-widgets/base",
            "_model_module_version": "1.2.0",
            "_model_name": "LayoutModel",
            "_view_count": null,
            "_view_module": "@jupyter-widgets/base",
            "_view_module_version": "1.2.0",
            "_view_name": "LayoutView",
            "align_content": null,
            "align_items": null,
            "align_self": null,
            "border": null,
            "bottom": null,
            "display": null,
            "flex": null,
            "flex_flow": null,
            "grid_area": null,
            "grid_auto_columns": null,
            "grid_auto_flow": null,
            "grid_auto_rows": null,
            "grid_column": null,
            "grid_gap": null,
            "grid_row": null,
            "grid_template_areas": null,
            "grid_template_columns": null,
            "grid_template_rows": null,
            "height": null,
            "justify_content": null,
            "justify_items": null,
            "left": null,
            "margin": null,
            "max_height": null,
            "max_width": null,
            "min_height": null,
            "min_width": null,
            "object_fit": null,
            "object_position": null,
            "order": null,
            "overflow": null,
            "overflow_x": null,
            "overflow_y": null,
            "padding": null,
            "right": null,
            "top": null,
            "visibility": "hidden",
            "width": null
          }
        },
        "5f72d2ab3fef468db4b00ea506e05764": {
          "model_module": "@jupyter-widgets/base",
          "model_name": "LayoutModel",
          "model_module_version": "1.2.0",
          "state": {
            "_model_module": "@jupyter-widgets/base",
            "_model_module_version": "1.2.0",
            "_model_name": "LayoutModel",
            "_view_count": null,
            "_view_module": "@jupyter-widgets/base",
            "_view_module_version": "1.2.0",
            "_view_name": "LayoutView",
            "align_content": null,
            "align_items": null,
            "align_self": null,
            "border": null,
            "bottom": null,
            "display": null,
            "flex": null,
            "flex_flow": null,
            "grid_area": null,
            "grid_auto_columns": null,
            "grid_auto_flow": null,
            "grid_auto_rows": null,
            "grid_column": null,
            "grid_gap": null,
            "grid_row": null,
            "grid_template_areas": null,
            "grid_template_columns": null,
            "grid_template_rows": null,
            "height": null,
            "justify_content": null,
            "justify_items": null,
            "left": null,
            "margin": null,
            "max_height": null,
            "max_width": null,
            "min_height": null,
            "min_width": null,
            "object_fit": null,
            "object_position": null,
            "order": null,
            "overflow": null,
            "overflow_x": null,
            "overflow_y": null,
            "padding": null,
            "right": null,
            "top": null,
            "visibility": null,
            "width": null
          }
        },
        "cf8cc7d3def14569b7a2a7ca7d19cf18": {
          "model_module": "@jupyter-widgets/controls",
          "model_name": "DescriptionStyleModel",
          "model_module_version": "1.5.0",
          "state": {
            "_model_module": "@jupyter-widgets/controls",
            "_model_module_version": "1.5.0",
            "_model_name": "DescriptionStyleModel",
            "_view_count": null,
            "_view_module": "@jupyter-widgets/base",
            "_view_module_version": "1.2.0",
            "_view_name": "StyleView",
            "description_width": ""
          }
        },
        "7bd38521a871422d8215a83d6ce9c792": {
          "model_module": "@jupyter-widgets/base",
          "model_name": "LayoutModel",
          "model_module_version": "1.2.0",
          "state": {
            "_model_module": "@jupyter-widgets/base",
            "_model_module_version": "1.2.0",
            "_model_name": "LayoutModel",
            "_view_count": null,
            "_view_module": "@jupyter-widgets/base",
            "_view_module_version": "1.2.0",
            "_view_name": "LayoutView",
            "align_content": null,
            "align_items": null,
            "align_self": null,
            "border": null,
            "bottom": null,
            "display": null,
            "flex": null,
            "flex_flow": null,
            "grid_area": null,
            "grid_auto_columns": null,
            "grid_auto_flow": null,
            "grid_auto_rows": null,
            "grid_column": null,
            "grid_gap": null,
            "grid_row": null,
            "grid_template_areas": null,
            "grid_template_columns": null,
            "grid_template_rows": null,
            "height": null,
            "justify_content": null,
            "justify_items": null,
            "left": null,
            "margin": null,
            "max_height": null,
            "max_width": null,
            "min_height": null,
            "min_width": null,
            "object_fit": null,
            "object_position": null,
            "order": null,
            "overflow": null,
            "overflow_x": null,
            "overflow_y": null,
            "padding": null,
            "right": null,
            "top": null,
            "visibility": null,
            "width": null
          }
        },
        "56a9bb21bf99435b8dc5969720b0ccea": {
          "model_module": "@jupyter-widgets/controls",
          "model_name": "ProgressStyleModel",
          "model_module_version": "1.5.0",
          "state": {
            "_model_module": "@jupyter-widgets/controls",
            "_model_module_version": "1.5.0",
            "_model_name": "ProgressStyleModel",
            "_view_count": null,
            "_view_module": "@jupyter-widgets/base",
            "_view_module_version": "1.2.0",
            "_view_name": "StyleView",
            "bar_color": null,
            "description_width": ""
          }
        },
        "76f15d2aa95844f5a8e9898c6cf050ba": {
          "model_module": "@jupyter-widgets/base",
          "model_name": "LayoutModel",
          "model_module_version": "1.2.0",
          "state": {
            "_model_module": "@jupyter-widgets/base",
            "_model_module_version": "1.2.0",
            "_model_name": "LayoutModel",
            "_view_count": null,
            "_view_module": "@jupyter-widgets/base",
            "_view_module_version": "1.2.0",
            "_view_name": "LayoutView",
            "align_content": null,
            "align_items": null,
            "align_self": null,
            "border": null,
            "bottom": null,
            "display": null,
            "flex": null,
            "flex_flow": null,
            "grid_area": null,
            "grid_auto_columns": null,
            "grid_auto_flow": null,
            "grid_auto_rows": null,
            "grid_column": null,
            "grid_gap": null,
            "grid_row": null,
            "grid_template_areas": null,
            "grid_template_columns": null,
            "grid_template_rows": null,
            "height": null,
            "justify_content": null,
            "justify_items": null,
            "left": null,
            "margin": null,
            "max_height": null,
            "max_width": null,
            "min_height": null,
            "min_width": null,
            "object_fit": null,
            "object_position": null,
            "order": null,
            "overflow": null,
            "overflow_x": null,
            "overflow_y": null,
            "padding": null,
            "right": null,
            "top": null,
            "visibility": null,
            "width": null
          }
        },
        "40776680dd2c45b390819125cdba115e": {
          "model_module": "@jupyter-widgets/controls",
          "model_name": "DescriptionStyleModel",
          "model_module_version": "1.5.0",
          "state": {
            "_model_module": "@jupyter-widgets/controls",
            "_model_module_version": "1.5.0",
            "_model_name": "DescriptionStyleModel",
            "_view_count": null,
            "_view_module": "@jupyter-widgets/base",
            "_view_module_version": "1.2.0",
            "_view_name": "StyleView",
            "description_width": ""
          }
        },
        "7d38d3cf5fde4e9db670c85952f6f3ce": {
          "model_module": "@jupyter-widgets/controls",
          "model_name": "HBoxModel",
          "model_module_version": "1.5.0",
          "state": {
            "_dom_classes": [],
            "_model_module": "@jupyter-widgets/controls",
            "_model_module_version": "1.5.0",
            "_model_name": "HBoxModel",
            "_view_count": null,
            "_view_module": "@jupyter-widgets/controls",
            "_view_module_version": "1.5.0",
            "_view_name": "HBoxView",
            "box_style": "",
            "children": [
              "IPY_MODEL_62f7cd2358ef426ea797ede99a9e8fd2",
              "IPY_MODEL_b820a933a6464c32ac81ff7ab5275012",
              "IPY_MODEL_4a2712eae2024fc3b14d6ab7adc38d3a"
            ],
            "layout": "IPY_MODEL_d75a3cd9600547fb9655a8c6204a9c01"
          }
        },
        "62f7cd2358ef426ea797ede99a9e8fd2": {
          "model_module": "@jupyter-widgets/controls",
          "model_name": "HTMLModel",
          "model_module_version": "1.5.0",
          "state": {
            "_dom_classes": [],
            "_model_module": "@jupyter-widgets/controls",
            "_model_module_version": "1.5.0",
            "_model_name": "HTMLModel",
            "_view_count": null,
            "_view_module": "@jupyter-widgets/controls",
            "_view_module_version": "1.5.0",
            "_view_name": "HTMLView",
            "description": "",
            "description_tooltip": null,
            "layout": "IPY_MODEL_2c37e6ac29134b67af317ef90896ba35",
            "placeholder": "​",
            "style": "IPY_MODEL_bb042de5ec1941a5b5272e6d2aa3eeb6",
            "value": "Generating test examples...:  95%"
          }
        },
        "b820a933a6464c32ac81ff7ab5275012": {
          "model_module": "@jupyter-widgets/controls",
          "model_name": "FloatProgressModel",
          "model_module_version": "1.5.0",
          "state": {
            "_dom_classes": [],
            "_model_module": "@jupyter-widgets/controls",
            "_model_module_version": "1.5.0",
            "_model_name": "FloatProgressModel",
            "_view_count": null,
            "_view_module": "@jupyter-widgets/controls",
            "_view_module_version": "1.5.0",
            "_view_name": "ProgressView",
            "bar_style": "",
            "description": "",
            "description_tooltip": null,
            "layout": "IPY_MODEL_97c51abdc25c41d6bb0f93cdf3205e4c",
            "max": 10000,
            "min": 0,
            "orientation": "horizontal",
            "style": "IPY_MODEL_acf690cb78a24f3c827a23b3e939b457",
            "value": 10000
          }
        },
        "4a2712eae2024fc3b14d6ab7adc38d3a": {
          "model_module": "@jupyter-widgets/controls",
          "model_name": "HTMLModel",
          "model_module_version": "1.5.0",
          "state": {
            "_dom_classes": [],
            "_model_module": "@jupyter-widgets/controls",
            "_model_module_version": "1.5.0",
            "_model_name": "HTMLModel",
            "_view_count": null,
            "_view_module": "@jupyter-widgets/controls",
            "_view_module_version": "1.5.0",
            "_view_name": "HTMLView",
            "description": "",
            "description_tooltip": null,
            "layout": "IPY_MODEL_a156438c91984899b9c9927a0952cecb",
            "placeholder": "​",
            "style": "IPY_MODEL_9c6b2b4ceff14017993148b5b6a6fb44",
            "value": " 9532/10000 [00:05&lt;00:00, 1667.97 examples/s]"
          }
        },
        "d75a3cd9600547fb9655a8c6204a9c01": {
          "model_module": "@jupyter-widgets/base",
          "model_name": "LayoutModel",
          "model_module_version": "1.2.0",
          "state": {
            "_model_module": "@jupyter-widgets/base",
            "_model_module_version": "1.2.0",
            "_model_name": "LayoutModel",
            "_view_count": null,
            "_view_module": "@jupyter-widgets/base",
            "_view_module_version": "1.2.0",
            "_view_name": "LayoutView",
            "align_content": null,
            "align_items": null,
            "align_self": null,
            "border": null,
            "bottom": null,
            "display": null,
            "flex": null,
            "flex_flow": null,
            "grid_area": null,
            "grid_auto_columns": null,
            "grid_auto_flow": null,
            "grid_auto_rows": null,
            "grid_column": null,
            "grid_gap": null,
            "grid_row": null,
            "grid_template_areas": null,
            "grid_template_columns": null,
            "grid_template_rows": null,
            "height": null,
            "justify_content": null,
            "justify_items": null,
            "left": null,
            "margin": null,
            "max_height": null,
            "max_width": null,
            "min_height": null,
            "min_width": null,
            "object_fit": null,
            "object_position": null,
            "order": null,
            "overflow": null,
            "overflow_x": null,
            "overflow_y": null,
            "padding": null,
            "right": null,
            "top": null,
            "visibility": "hidden",
            "width": null
          }
        },
        "2c37e6ac29134b67af317ef90896ba35": {
          "model_module": "@jupyter-widgets/base",
          "model_name": "LayoutModel",
          "model_module_version": "1.2.0",
          "state": {
            "_model_module": "@jupyter-widgets/base",
            "_model_module_version": "1.2.0",
            "_model_name": "LayoutModel",
            "_view_count": null,
            "_view_module": "@jupyter-widgets/base",
            "_view_module_version": "1.2.0",
            "_view_name": "LayoutView",
            "align_content": null,
            "align_items": null,
            "align_self": null,
            "border": null,
            "bottom": null,
            "display": null,
            "flex": null,
            "flex_flow": null,
            "grid_area": null,
            "grid_auto_columns": null,
            "grid_auto_flow": null,
            "grid_auto_rows": null,
            "grid_column": null,
            "grid_gap": null,
            "grid_row": null,
            "grid_template_areas": null,
            "grid_template_columns": null,
            "grid_template_rows": null,
            "height": null,
            "justify_content": null,
            "justify_items": null,
            "left": null,
            "margin": null,
            "max_height": null,
            "max_width": null,
            "min_height": null,
            "min_width": null,
            "object_fit": null,
            "object_position": null,
            "order": null,
            "overflow": null,
            "overflow_x": null,
            "overflow_y": null,
            "padding": null,
            "right": null,
            "top": null,
            "visibility": null,
            "width": null
          }
        },
        "bb042de5ec1941a5b5272e6d2aa3eeb6": {
          "model_module": "@jupyter-widgets/controls",
          "model_name": "DescriptionStyleModel",
          "model_module_version": "1.5.0",
          "state": {
            "_model_module": "@jupyter-widgets/controls",
            "_model_module_version": "1.5.0",
            "_model_name": "DescriptionStyleModel",
            "_view_count": null,
            "_view_module": "@jupyter-widgets/base",
            "_view_module_version": "1.2.0",
            "_view_name": "StyleView",
            "description_width": ""
          }
        },
        "97c51abdc25c41d6bb0f93cdf3205e4c": {
          "model_module": "@jupyter-widgets/base",
          "model_name": "LayoutModel",
          "model_module_version": "1.2.0",
          "state": {
            "_model_module": "@jupyter-widgets/base",
            "_model_module_version": "1.2.0",
            "_model_name": "LayoutModel",
            "_view_count": null,
            "_view_module": "@jupyter-widgets/base",
            "_view_module_version": "1.2.0",
            "_view_name": "LayoutView",
            "align_content": null,
            "align_items": null,
            "align_self": null,
            "border": null,
            "bottom": null,
            "display": null,
            "flex": null,
            "flex_flow": null,
            "grid_area": null,
            "grid_auto_columns": null,
            "grid_auto_flow": null,
            "grid_auto_rows": null,
            "grid_column": null,
            "grid_gap": null,
            "grid_row": null,
            "grid_template_areas": null,
            "grid_template_columns": null,
            "grid_template_rows": null,
            "height": null,
            "justify_content": null,
            "justify_items": null,
            "left": null,
            "margin": null,
            "max_height": null,
            "max_width": null,
            "min_height": null,
            "min_width": null,
            "object_fit": null,
            "object_position": null,
            "order": null,
            "overflow": null,
            "overflow_x": null,
            "overflow_y": null,
            "padding": null,
            "right": null,
            "top": null,
            "visibility": null,
            "width": null
          }
        },
        "acf690cb78a24f3c827a23b3e939b457": {
          "model_module": "@jupyter-widgets/controls",
          "model_name": "ProgressStyleModel",
          "model_module_version": "1.5.0",
          "state": {
            "_model_module": "@jupyter-widgets/controls",
            "_model_module_version": "1.5.0",
            "_model_name": "ProgressStyleModel",
            "_view_count": null,
            "_view_module": "@jupyter-widgets/base",
            "_view_module_version": "1.2.0",
            "_view_name": "StyleView",
            "bar_color": null,
            "description_width": ""
          }
        },
        "a156438c91984899b9c9927a0952cecb": {
          "model_module": "@jupyter-widgets/base",
          "model_name": "LayoutModel",
          "model_module_version": "1.2.0",
          "state": {
            "_model_module": "@jupyter-widgets/base",
            "_model_module_version": "1.2.0",
            "_model_name": "LayoutModel",
            "_view_count": null,
            "_view_module": "@jupyter-widgets/base",
            "_view_module_version": "1.2.0",
            "_view_name": "LayoutView",
            "align_content": null,
            "align_items": null,
            "align_self": null,
            "border": null,
            "bottom": null,
            "display": null,
            "flex": null,
            "flex_flow": null,
            "grid_area": null,
            "grid_auto_columns": null,
            "grid_auto_flow": null,
            "grid_auto_rows": null,
            "grid_column": null,
            "grid_gap": null,
            "grid_row": null,
            "grid_template_areas": null,
            "grid_template_columns": null,
            "grid_template_rows": null,
            "height": null,
            "justify_content": null,
            "justify_items": null,
            "left": null,
            "margin": null,
            "max_height": null,
            "max_width": null,
            "min_height": null,
            "min_width": null,
            "object_fit": null,
            "object_position": null,
            "order": null,
            "overflow": null,
            "overflow_x": null,
            "overflow_y": null,
            "padding": null,
            "right": null,
            "top": null,
            "visibility": null,
            "width": null
          }
        },
        "9c6b2b4ceff14017993148b5b6a6fb44": {
          "model_module": "@jupyter-widgets/controls",
          "model_name": "DescriptionStyleModel",
          "model_module_version": "1.5.0",
          "state": {
            "_model_module": "@jupyter-widgets/controls",
            "_model_module_version": "1.5.0",
            "_model_name": "DescriptionStyleModel",
            "_view_count": null,
            "_view_module": "@jupyter-widgets/base",
            "_view_module_version": "1.2.0",
            "_view_name": "StyleView",
            "description_width": ""
          }
        },
        "2b0daea0f72d4bdab287b5c9d85fbcc5": {
          "model_module": "@jupyter-widgets/controls",
          "model_name": "HBoxModel",
          "model_module_version": "1.5.0",
          "state": {
            "_dom_classes": [],
            "_model_module": "@jupyter-widgets/controls",
            "_model_module_version": "1.5.0",
            "_model_name": "HBoxModel",
            "_view_count": null,
            "_view_module": "@jupyter-widgets/controls",
            "_view_module_version": "1.5.0",
            "_view_name": "HBoxView",
            "box_style": "",
            "children": [
              "IPY_MODEL_dedb30bf67ab42da87b84030c89f198c",
              "IPY_MODEL_a73f5e29cad14e64a56f85e89be75749",
              "IPY_MODEL_accd1167c669423d8b1428f2146e956c"
            ],
            "layout": "IPY_MODEL_6e4c20c824ae4b84b5635bbf05757021"
          }
        },
        "dedb30bf67ab42da87b84030c89f198c": {
          "model_module": "@jupyter-widgets/controls",
          "model_name": "HTMLModel",
          "model_module_version": "1.5.0",
          "state": {
            "_dom_classes": [],
            "_model_module": "@jupyter-widgets/controls",
            "_model_module_version": "1.5.0",
            "_model_name": "HTMLModel",
            "_view_count": null,
            "_view_module": "@jupyter-widgets/controls",
            "_view_module_version": "1.5.0",
            "_view_name": "HTMLView",
            "description": "",
            "description_tooltip": null,
            "layout": "IPY_MODEL_fec80feca8dc40ba9f58b13da88fe738",
            "placeholder": "​",
            "style": "IPY_MODEL_8b07a4919cba4320a979e652ced74770",
            "value": "Shuffling /root/tensorflow_datasets/kmnist/3.0.1.incompleteOKFN91/kmnist-test.tfrecord*...:  38%"
          }
        },
        "a73f5e29cad14e64a56f85e89be75749": {
          "model_module": "@jupyter-widgets/controls",
          "model_name": "FloatProgressModel",
          "model_module_version": "1.5.0",
          "state": {
            "_dom_classes": [],
            "_model_module": "@jupyter-widgets/controls",
            "_model_module_version": "1.5.0",
            "_model_name": "FloatProgressModel",
            "_view_count": null,
            "_view_module": "@jupyter-widgets/controls",
            "_view_module_version": "1.5.0",
            "_view_name": "ProgressView",
            "bar_style": "",
            "description": "",
            "description_tooltip": null,
            "layout": "IPY_MODEL_2209cbe8455c48a59f86e36e88dfd32d",
            "max": 10000,
            "min": 0,
            "orientation": "horizontal",
            "style": "IPY_MODEL_5693e0be451b46f5bc100971ad170dd9",
            "value": 10000
          }
        },
        "accd1167c669423d8b1428f2146e956c": {
          "model_module": "@jupyter-widgets/controls",
          "model_name": "HTMLModel",
          "model_module_version": "1.5.0",
          "state": {
            "_dom_classes": [],
            "_model_module": "@jupyter-widgets/controls",
            "_model_module_version": "1.5.0",
            "_model_name": "HTMLModel",
            "_view_count": null,
            "_view_module": "@jupyter-widgets/controls",
            "_view_module_version": "1.5.0",
            "_view_name": "HTMLView",
            "description": "",
            "description_tooltip": null,
            "layout": "IPY_MODEL_1771c78847b94f5790fd24dd89735c99",
            "placeholder": "​",
            "style": "IPY_MODEL_87d382b67caf41938e44278292a543c6",
            "value": " 3829/10000 [00:00&lt;00:00, 38284.38 examples/s]"
          }
        },
        "6e4c20c824ae4b84b5635bbf05757021": {
          "model_module": "@jupyter-widgets/base",
          "model_name": "LayoutModel",
          "model_module_version": "1.2.0",
          "state": {
            "_model_module": "@jupyter-widgets/base",
            "_model_module_version": "1.2.0",
            "_model_name": "LayoutModel",
            "_view_count": null,
            "_view_module": "@jupyter-widgets/base",
            "_view_module_version": "1.2.0",
            "_view_name": "LayoutView",
            "align_content": null,
            "align_items": null,
            "align_self": null,
            "border": null,
            "bottom": null,
            "display": null,
            "flex": null,
            "flex_flow": null,
            "grid_area": null,
            "grid_auto_columns": null,
            "grid_auto_flow": null,
            "grid_auto_rows": null,
            "grid_column": null,
            "grid_gap": null,
            "grid_row": null,
            "grid_template_areas": null,
            "grid_template_columns": null,
            "grid_template_rows": null,
            "height": null,
            "justify_content": null,
            "justify_items": null,
            "left": null,
            "margin": null,
            "max_height": null,
            "max_width": null,
            "min_height": null,
            "min_width": null,
            "object_fit": null,
            "object_position": null,
            "order": null,
            "overflow": null,
            "overflow_x": null,
            "overflow_y": null,
            "padding": null,
            "right": null,
            "top": null,
            "visibility": "hidden",
            "width": null
          }
        },
        "fec80feca8dc40ba9f58b13da88fe738": {
          "model_module": "@jupyter-widgets/base",
          "model_name": "LayoutModel",
          "model_module_version": "1.2.0",
          "state": {
            "_model_module": "@jupyter-widgets/base",
            "_model_module_version": "1.2.0",
            "_model_name": "LayoutModel",
            "_view_count": null,
            "_view_module": "@jupyter-widgets/base",
            "_view_module_version": "1.2.0",
            "_view_name": "LayoutView",
            "align_content": null,
            "align_items": null,
            "align_self": null,
            "border": null,
            "bottom": null,
            "display": null,
            "flex": null,
            "flex_flow": null,
            "grid_area": null,
            "grid_auto_columns": null,
            "grid_auto_flow": null,
            "grid_auto_rows": null,
            "grid_column": null,
            "grid_gap": null,
            "grid_row": null,
            "grid_template_areas": null,
            "grid_template_columns": null,
            "grid_template_rows": null,
            "height": null,
            "justify_content": null,
            "justify_items": null,
            "left": null,
            "margin": null,
            "max_height": null,
            "max_width": null,
            "min_height": null,
            "min_width": null,
            "object_fit": null,
            "object_position": null,
            "order": null,
            "overflow": null,
            "overflow_x": null,
            "overflow_y": null,
            "padding": null,
            "right": null,
            "top": null,
            "visibility": null,
            "width": null
          }
        },
        "8b07a4919cba4320a979e652ced74770": {
          "model_module": "@jupyter-widgets/controls",
          "model_name": "DescriptionStyleModel",
          "model_module_version": "1.5.0",
          "state": {
            "_model_module": "@jupyter-widgets/controls",
            "_model_module_version": "1.5.0",
            "_model_name": "DescriptionStyleModel",
            "_view_count": null,
            "_view_module": "@jupyter-widgets/base",
            "_view_module_version": "1.2.0",
            "_view_name": "StyleView",
            "description_width": ""
          }
        },
        "2209cbe8455c48a59f86e36e88dfd32d": {
          "model_module": "@jupyter-widgets/base",
          "model_name": "LayoutModel",
          "model_module_version": "1.2.0",
          "state": {
            "_model_module": "@jupyter-widgets/base",
            "_model_module_version": "1.2.0",
            "_model_name": "LayoutModel",
            "_view_count": null,
            "_view_module": "@jupyter-widgets/base",
            "_view_module_version": "1.2.0",
            "_view_name": "LayoutView",
            "align_content": null,
            "align_items": null,
            "align_self": null,
            "border": null,
            "bottom": null,
            "display": null,
            "flex": null,
            "flex_flow": null,
            "grid_area": null,
            "grid_auto_columns": null,
            "grid_auto_flow": null,
            "grid_auto_rows": null,
            "grid_column": null,
            "grid_gap": null,
            "grid_row": null,
            "grid_template_areas": null,
            "grid_template_columns": null,
            "grid_template_rows": null,
            "height": null,
            "justify_content": null,
            "justify_items": null,
            "left": null,
            "margin": null,
            "max_height": null,
            "max_width": null,
            "min_height": null,
            "min_width": null,
            "object_fit": null,
            "object_position": null,
            "order": null,
            "overflow": null,
            "overflow_x": null,
            "overflow_y": null,
            "padding": null,
            "right": null,
            "top": null,
            "visibility": null,
            "width": null
          }
        },
        "5693e0be451b46f5bc100971ad170dd9": {
          "model_module": "@jupyter-widgets/controls",
          "model_name": "ProgressStyleModel",
          "model_module_version": "1.5.0",
          "state": {
            "_model_module": "@jupyter-widgets/controls",
            "_model_module_version": "1.5.0",
            "_model_name": "ProgressStyleModel",
            "_view_count": null,
            "_view_module": "@jupyter-widgets/base",
            "_view_module_version": "1.2.0",
            "_view_name": "StyleView",
            "bar_color": null,
            "description_width": ""
          }
        },
        "1771c78847b94f5790fd24dd89735c99": {
          "model_module": "@jupyter-widgets/base",
          "model_name": "LayoutModel",
          "model_module_version": "1.2.0",
          "state": {
            "_model_module": "@jupyter-widgets/base",
            "_model_module_version": "1.2.0",
            "_model_name": "LayoutModel",
            "_view_count": null,
            "_view_module": "@jupyter-widgets/base",
            "_view_module_version": "1.2.0",
            "_view_name": "LayoutView",
            "align_content": null,
            "align_items": null,
            "align_self": null,
            "border": null,
            "bottom": null,
            "display": null,
            "flex": null,
            "flex_flow": null,
            "grid_area": null,
            "grid_auto_columns": null,
            "grid_auto_flow": null,
            "grid_auto_rows": null,
            "grid_column": null,
            "grid_gap": null,
            "grid_row": null,
            "grid_template_areas": null,
            "grid_template_columns": null,
            "grid_template_rows": null,
            "height": null,
            "justify_content": null,
            "justify_items": null,
            "left": null,
            "margin": null,
            "max_height": null,
            "max_width": null,
            "min_height": null,
            "min_width": null,
            "object_fit": null,
            "object_position": null,
            "order": null,
            "overflow": null,
            "overflow_x": null,
            "overflow_y": null,
            "padding": null,
            "right": null,
            "top": null,
            "visibility": null,
            "width": null
          }
        },
        "87d382b67caf41938e44278292a543c6": {
          "model_module": "@jupyter-widgets/controls",
          "model_name": "DescriptionStyleModel",
          "model_module_version": "1.5.0",
          "state": {
            "_model_module": "@jupyter-widgets/controls",
            "_model_module_version": "1.5.0",
            "_model_name": "DescriptionStyleModel",
            "_view_count": null,
            "_view_module": "@jupyter-widgets/base",
            "_view_module_version": "1.2.0",
            "_view_name": "StyleView",
            "description_width": ""
          }
        }
      }
    }
  },
  "nbformat": 4,
  "nbformat_minor": 5
}